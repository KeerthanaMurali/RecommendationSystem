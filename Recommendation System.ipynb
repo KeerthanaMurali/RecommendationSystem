{
 "cells": [
  {
   "cell_type": "markdown",
   "metadata": {},
   "source": [
    "# Assignment 2 for FIT5212, Semester 1, 2020\n",
    "\n",
    "**Student Name:**  Keerthana Muralitharan\n",
    "\n",
    "**Student ID:**    30159474"
   ]
  },
  {
   "cell_type": "markdown",
   "metadata": {},
   "source": [
    "## Part 1 - Recommender Systems\n",
    "To build a recommendation engine that provides personalized top 10 item recommendations to users based on their interaction with the items.The recommendation system model is built using Implicit Feedback approach( depends on interactions or feedbacks on items made by the users). We would be using **ALternating Least Squares,Logistic Matrix Factorization** and **Bayesian Personalised Ranking** models to build and evaluate the performance of the Recommender systems.\n",
    "\n",
    "### 1.1 Importing the necessary libraries\n",
    "Import the packages and libraries which are required to perform the underlying tasks to build a recommender system."
   ]
  },
  {
   "cell_type": "code",
   "execution_count": 1,
   "metadata": {
    "colab": {
     "base_uri": "https://localhost:8080/",
     "height": 253
    },
    "colab_type": "code",
    "id": "qq07jMvmMTau",
    "outputId": "3c3460d3-9c0f-4dd5-c29b-5de6e88836ef"
   },
   "outputs": [],
   "source": [
    "#Importing all the required libraries\n",
    "#!pip install implicit\n",
    "import pandas as pd\n",
    "import numpy as np\n",
    "import numpy as np\n",
    "\n",
    "import scipy.sparse as sparse\n",
    "from sklearn import metrics\n",
    "import matplotlib.pylab as plt\n",
    "import random\n",
    "import implicit"
   ]
  },
  {
   "cell_type": "markdown",
   "metadata": {},
   "source": [
    "### 1.2 Loading the data\n",
    "\n",
    "The train,test and validation data is being read and stored in the form of a dataframe using pandas.The validation dataframe is being combined with the train dataframe and used for further processing."
   ]
  },
  {
   "cell_type": "code",
   "execution_count": 2,
   "metadata": {},
   "outputs": [
    {
     "name": "stdout",
     "output_type": "stream",
     "text": [
      "Dimension of the train data set is  (28449, 3)\n",
      "Dimension of the test data set is  (223900, 2)\n",
      "Dimension of the validation data set is  (223900, 3)\n",
      "Dimension of the new data set is  (30688, 3)\n"
     ]
    }
   ],
   "source": [
    "# Load the data into a dataframe\n",
    "train = pd.read_csv('train_data.csv')\n",
    "test = pd.read_csv('test_data.csv')\n",
    "validation = pd.read_csv('validation_data.csv')\n",
    "\n",
    "\n",
    "#The data from the vaidation dataframe with ratings value equal to 1 is filtered\n",
    "interacted_valid=validation[validation['rating']==1]\n",
    "\n",
    "#Final dataframe is created with combining the train dataframe and filtered validation dataframe\n",
    "data =train.append(interacted_valid)\n",
    "\n",
    "#display the dimensions of the datasets\n",
    "print('Dimension of the train data set is ',train.shape)\n",
    "print('Dimension of the test data set is ',test.shape)\n",
    "print('Dimension of the validation data set is ',validation.shape)\n",
    "print('Dimension of the new data set is ',data.shape)"
   ]
  },
  {
   "cell_type": "code",
   "execution_count": 3,
   "metadata": {
    "colab": {
     "base_uri": "https://localhost:8080/",
     "height": 50
    },
    "colab_type": "code",
    "id": "W8UUwVFAMTa6",
    "outputId": "821e65c7-efe7-4be5-9d49-eeceab26ff32"
   },
   "outputs": [
    {
     "name": "stdout",
     "output_type": "stream",
     "text": [
      "Total number of users: 2239\n",
      "Total number of items: 2174\n"
     ]
    }
   ],
   "source": [
    "#Display the number of users and items present in the dataframe\n",
    "print('Total number of users:',len(data['user_id'].unique()))\n",
    "print('Total number of items:',len(data['item_id'].unique()))"
   ]
  },
  {
   "cell_type": "markdown",
   "metadata": {
    "colab": {},
    "colab_type": "code",
    "id": "1LImy1r5MTbI"
   },
   "source": [
    "### 1.3 Creating sparse matrices\n",
    "\n",
    "Here we build two sparse matrices one is used for fitting the model(item-user) and the other is used for recommendations(user-item) because the implicit library wants the input data to be in the format of sparse matrix."
   ]
  },
  {
   "cell_type": "code",
   "execution_count": 4,
   "metadata": {},
   "outputs": [],
   "source": [
    "# The data is converted into an item-user matrix for fitting the model\n",
    "sparse_item_user = sparse.csr_matrix((data['rating'].astype(float), (data['item_id'], data['user_id'])))\n",
    "\n",
    "# The data is converted into an user-item matrix for recommending items to the user from the built model\n",
    "sparse_user_item = sparse.csr_matrix((data['rating'].astype(float), (data['user_id'], data['item_id'])))"
   ]
  },
  {
   "cell_type": "markdown",
   "metadata": {},
   "source": [
    "### 1.4 Checking the sparsity of the data\n",
    "\n",
    "Sparse data in Machine Learning alters the performance and the ability of machine learning algorithms to calculate accurate predictions. Data is called sparse when some predicted values are missing in a data set, which is a common phenomenon in general large-scale analyses of data. Here we get a  sparsity of **99.36%** , which is very huge infering that there are many values are sparse.\n",
    "\n",
    "###### Reference : http://www.diva-portal.se/smash/get/diva2:1111045/FULLTEXT01.pdf"
   ]
  },
  {
   "cell_type": "code",
   "execution_count": 5,
   "metadata": {
    "colab": {
     "base_uri": "https://localhost:8080/",
     "height": 33
    },
    "colab_type": "code",
    "id": "4SSYOJjBMTbO",
    "outputId": "5f0c1b19-1ed3-4b8a-82c2-e7b3226fcf5b"
   },
   "outputs": [
    {
     "name": "stdout",
     "output_type": "stream",
     "text": [
      "Sparsity : 99.36954375331017\n"
     ]
    }
   ],
   "source": [
    "# Number of possible interactions in the matrix\n",
    "matrix_size = sparse_user_item.shape[0]*sparse_user_item.shape[1] \n",
    "\n",
    "# Number of items interacted with\n",
    "num_purchases = len(sparse_user_item.nonzero()[0]) \n",
    "\n",
    "#Finding the sparsity \n",
    "sparsity = 100*(1 - (num_purchases/matrix_size))\n",
    "print(\"Sparsity :\",sparsity)"
   ]
  },
  {
   "cell_type": "markdown",
   "metadata": {},
   "source": [
    "### 1.5 Splitting into train and test datasets\n",
    "\n",
    "The below function is used in take in the original user-item matrix and cover up a small percentage of the ratings where an\n",
    "user-item interaction has taken place for use as a test set.This altered list of users for with a small percentage of ratings for which the data is being masked.\n",
    "\n",
    "**Function Process**\n",
    "- Take a copy of the test set ratings and store it as a binary preference matrix\n",
    "- Find the ratings which is equal to 1 and combine the user_id and items pairs\n",
    "- Slecting random number of rows without any replacement or masking\n",
    "- Get the item row index values and user column index values of the samples created in previous step\n",
    "- Set the value zero to the user-item pairs which are randomly chosen and remove the zeros the sparse array\n",
    "- Return the training and test set of ratings and the altered list of distinct users."
   ]
  },
  {
   "cell_type": "code",
   "execution_count": 6,
   "metadata": {
    "colab": {},
    "colab_type": "code",
    "id": "Fv4vZsTyMTbU"
   },
   "outputs": [],
   "source": [
    "#https://github.com/akhilesh-reddy/Implicit-data-based-recommendation-system/blob/master/Implicit%20data%20based%20recommendation%20system%20using%20ALS.ipynb\n",
    "\n",
    "def make_train(ratings, percentage_to_mask):\n",
    "    \n",
    "    #set random seed for reproducibility\n",
    "    random.seed(0)\n",
    "    \n",
    "    #store the test set ratings as a binary preference matrix\n",
    "    training_set = ratings.copy()\n",
    "    test_set = ratings.copy() \n",
    "    test_set[test_set != 0] = 1 \n",
    "    \n",
    "    #- Find the ratings which is equal to 1 and combine the user_id and items ratings\n",
    "    nonzero_inds = training_set.nonzero() \n",
    "    nonzero_pairs = list(zip(nonzero_inds[0], nonzero_inds[1])) \n",
    "    num_samples = int(np.ceil(percentage_to_mask*len(nonzero_pairs))) \n",
    "    \n",
    "    #select a random  number of samples without masking\n",
    "    samples = random.sample(nonzero_pairs, num_samples) \n",
    "\n",
    "    #Store the item and user indices from the samples\n",
    "    item_inds = [index[0] for index in samples] \n",
    "    user_inds = [index[1] for index in samples] \n",
    "\n",
    "    #Assign 0 to all user-item pairs which are randomly chosen and update the sparse array \n",
    "    training_set[item_inds, user_inds] = 0 \n",
    "    training_set.eliminate_zeros() \n",
    "    \n",
    "    return training_set, test_set, list(set(user_inds))"
   ]
  },
  {
   "cell_type": "code",
   "execution_count": 7,
   "metadata": {
    "colab": {},
    "colab_type": "code",
    "id": "4aaTiIGYMTbX"
   },
   "outputs": [],
   "source": [
    "# 20% of the data has been masked for this exercise\n",
    "split_train, split_test, masked_users = make_train(sparse_item_user, percentage_to_mask = 0.05)"
   ]
  },
  {
   "cell_type": "markdown",
   "metadata": {},
   "source": [
    "### 1.6 Calculating the AUC score using Bayesian Personalized Ranking\n",
    "\n",
    "###### Reference : https://towardsdatascience.com/recommender-system-using-bayesian-personalized-ranking-d30e98bba0b9#:~:text=Instead%20it%20optimizes%20to%20predict,personalized%20rankings%20for%20each%20user.\n",
    "\n",
    "Bayesian Personalised Ranking is used to provide the user with a ranked list of items\n",
    "\n",
    "The below function is used to find the area below the ROC curve - Receiver Operating Characteristic using the prediction output and actual result.\n",
    "\n",
    "The second function is to calculate the mean AUC to evaluate the recoomendation System for any given user with the users with masked ratings from their user-item sparse matrix.\n",
    "\n",
    "**Function Process**\n",
    "- store the AUC scores for the users for which the items were removed.\n",
    "- Calculate the sum of the interactions between the user and item to find the most popular items for the user.\n",
    "- For every altered user, find the interactions that has not occurred\n",
    "- Calculate the predicted values based on the user-item vectors\n",
    "- Select all ratings from the MF prediction for this user that originally had no interaction\n",
    "- Calculate the AUC for the given users\n",
    "- Return the mean AUC score for user."
   ]
  },
  {
   "cell_type": "code",
   "execution_count": 11,
   "metadata": {
    "colab": {},
    "colab_type": "code",
    "id": "X7m0sGJjMTb0"
   },
   "outputs": [],
   "source": [
    "# https://github.com/akhilesh-reddy/Implicit-data-based-recommendation-system/blob/master/Implicit%20data%20based%20recommendation%20system%20using%20ALS.ipynb\n",
    "\n",
    "#Function to calculate the mean AUC by user for any user in the user_item matrix which was altered.\n",
    "def calc_mean_auc(training_set, masked_users, predictions, test_set):\n",
    "\n",
    "    #Create empty lists to store the AUC scores for each user.\n",
    "    store_auc = [] \n",
    "    item_vecs = predictions[1]\n",
    "    \n",
    "    # Find where the interaction had not occurred for every altered user\n",
    "    for user in masked_users: \n",
    "        training_column = training_set[:,user].toarray().reshape(-1) \n",
    "        zero_inds = np.where(training_column == 0) \n",
    "        \n",
    "        # Calculate the predicted values based for user-item vectors\n",
    "        user_vec = predictions[0][user,:]\n",
    "        pred = user_vec.dot(item_vecs).toarray()[0,zero_inds].reshape(-1)\n",
    "        \n",
    "        # Select all ratings from the MF prediction for this user that originally had no iteraction\n",
    "        actual = test_set[:,user].toarray()[zero_inds,0].reshape(-1)\n",
    "        \n",
    "        # Calculate AUC for the given user\n",
    "        fpr, tpr, thresholds = metrics.roc_curve(actual, pred)\n",
    "        store_auc.append(metrics.auc(fpr, tpr)) \n",
    "        \n",
    "    # Return the mean AUC for test\n",
    "    return float('%.3f'%np.mean(store_auc))  \n",
    "   "
   ]
  },
  {
   "cell_type": "markdown",
   "metadata": {},
   "source": [
    "### 1.7 Finding the best parameters for the model\n",
    "\n",
    "The parameters used to build the model are \n",
    "- alpha\n",
    "- factor\n",
    "- iterations\n",
    "- regularisation factor\n",
    "\n",
    "Using the **Alternating Least Squares**,**Logistic Matrix Factorization**,**Bayesian Personalised Ranking** the model is being built and using **Bayesian Personalised Ranking** the AUC is calculated and the user is provided with the ranked list of items.\n",
    "\n",
    "AFter the model is built using ALS,LMF and BPR and data is fitted to it, we would optimise the performance using BPR by extracting the **item_vector** and **user_vector** matrix and finding the AUC score"
   ]
  },
  {
   "cell_type": "code",
   "execution_count": 28,
   "metadata": {},
   "outputs": [
    {
     "data": {
      "application/vnd.jupyter.widget-view+json": {
       "model_id": "aaab92cc2e0b48b0b964da6bd04f1548",
       "version_major": 2,
       "version_minor": 0
      },
      "text/plain": [
       "HBox(children=(FloatProgress(value=0.0, max=30.0), HTML(value='')))"
      ]
     },
     "metadata": {},
     "output_type": "display_data"
    },
    {
     "name": "stdout",
     "output_type": "stream",
     "text": [
      "\n"
     ]
    },
    {
     "data": {
      "application/vnd.jupyter.widget-view+json": {
       "model_id": "5eb29825041547eaa6a96fd8a67c5e3e",
       "version_major": 2,
       "version_minor": 0
      },
      "text/plain": [
       "HBox(children=(FloatProgress(value=0.0, max=30.0), HTML(value='')))"
      ]
     },
     "metadata": {},
     "output_type": "display_data"
    },
    {
     "name": "stdout",
     "output_type": "stream",
     "text": [
      "\n"
     ]
    },
    {
     "data": {
      "application/vnd.jupyter.widget-view+json": {
       "model_id": "3b9cb99773d646d8902b99e8c254159b",
       "version_major": 2,
       "version_minor": 0
      },
      "text/plain": [
       "HBox(children=(FloatProgress(value=0.0, max=30.0), HTML(value='')))"
      ]
     },
     "metadata": {},
     "output_type": "display_data"
    },
    {
     "name": "stdout",
     "output_type": "stream",
     "text": [
      "\n"
     ]
    },
    {
     "data": {
      "application/vnd.jupyter.widget-view+json": {
       "model_id": "8e1e702fc3f34411ad52b246ec5be4dd",
       "version_major": 2,
       "version_minor": 0
      },
      "text/plain": [
       "HBox(children=(FloatProgress(value=0.0, max=30.0), HTML(value='')))"
      ]
     },
     "metadata": {},
     "output_type": "display_data"
    },
    {
     "name": "stdout",
     "output_type": "stream",
     "text": [
      "\n"
     ]
    },
    {
     "data": {
      "application/vnd.jupyter.widget-view+json": {
       "model_id": "51b6e8fbd9774b72abc00d28f932324c",
       "version_major": 2,
       "version_minor": 0
      },
      "text/plain": [
       "HBox(children=(FloatProgress(value=0.0, max=30.0), HTML(value='')))"
      ]
     },
     "metadata": {},
     "output_type": "display_data"
    },
    {
     "name": "stdout",
     "output_type": "stream",
     "text": [
      "\n"
     ]
    },
    {
     "data": {
      "application/vnd.jupyter.widget-view+json": {
       "model_id": "7212ff8b68e0420db40ef525bd4030f7",
       "version_major": 2,
       "version_minor": 0
      },
      "text/plain": [
       "HBox(children=(FloatProgress(value=0.0, max=30.0), HTML(value='')))"
      ]
     },
     "metadata": {},
     "output_type": "display_data"
    },
    {
     "name": "stdout",
     "output_type": "stream",
     "text": [
      "\n"
     ]
    },
    {
     "data": {
      "application/vnd.jupyter.widget-view+json": {
       "model_id": "f442ed64bea44194b2de03d9b053ea45",
       "version_major": 2,
       "version_minor": 0
      },
      "text/plain": [
       "HBox(children=(FloatProgress(value=0.0, max=30.0), HTML(value='')))"
      ]
     },
     "metadata": {},
     "output_type": "display_data"
    },
    {
     "name": "stdout",
     "output_type": "stream",
     "text": [
      "\n"
     ]
    },
    {
     "data": {
      "application/vnd.jupyter.widget-view+json": {
       "model_id": "56eb1254bb854492aa823fac8c61b3f3",
       "version_major": 2,
       "version_minor": 0
      },
      "text/plain": [
       "HBox(children=(FloatProgress(value=0.0, max=30.0), HTML(value='')))"
      ]
     },
     "metadata": {},
     "output_type": "display_data"
    },
    {
     "name": "stdout",
     "output_type": "stream",
     "text": [
      "\n"
     ]
    },
    {
     "data": {
      "application/vnd.jupyter.widget-view+json": {
       "model_id": "5898feb5c3144b898cb352cda4707cb3",
       "version_major": 2,
       "version_minor": 0
      },
      "text/plain": [
       "HBox(children=(FloatProgress(value=0.0, max=30.0), HTML(value='')))"
      ]
     },
     "metadata": {},
     "output_type": "display_data"
    },
    {
     "name": "stdout",
     "output_type": "stream",
     "text": [
      "\n"
     ]
    },
    {
     "data": {
      "application/vnd.jupyter.widget-view+json": {
       "model_id": "eb50a005aa164e63886592de5be72959",
       "version_major": 2,
       "version_minor": 0
      },
      "text/plain": [
       "HBox(children=(FloatProgress(value=0.0, max=30.0), HTML(value='')))"
      ]
     },
     "metadata": {},
     "output_type": "display_data"
    },
    {
     "name": "stdout",
     "output_type": "stream",
     "text": [
      "\n"
     ]
    },
    {
     "data": {
      "application/vnd.jupyter.widget-view+json": {
       "model_id": "42b627b0931f4bde8277f817d24101dd",
       "version_major": 2,
       "version_minor": 0
      },
      "text/plain": [
       "HBox(children=(FloatProgress(value=0.0, max=30.0), HTML(value='')))"
      ]
     },
     "metadata": {},
     "output_type": "display_data"
    },
    {
     "name": "stdout",
     "output_type": "stream",
     "text": [
      "\n"
     ]
    },
    {
     "data": {
      "application/vnd.jupyter.widget-view+json": {
       "model_id": "4e57fefd6d1c4a839fbee597859789c3",
       "version_major": 2,
       "version_minor": 0
      },
      "text/plain": [
       "HBox(children=(FloatProgress(value=0.0, max=30.0), HTML(value='')))"
      ]
     },
     "metadata": {},
     "output_type": "display_data"
    },
    {
     "name": "stdout",
     "output_type": "stream",
     "text": [
      "\n"
     ]
    }
   ],
   "source": [
    "\n",
    "#Create empty lists to store the parameters of the model\n",
    "iteration=[]\n",
    "regu=[]\n",
    "fact=[]\n",
    "AUC_score=[]\n",
    "alpha_val=[]\n",
    "\n",
    "#iterate to find the best values of the model by changing the parameters and building the model\n",
    "for alpha1 in range(20,40,10):\n",
    "    \n",
    "    #making the data \n",
    "    data_conf = (split_train * alpha1).astype('double')\n",
    "    \n",
    "    #iterating over factors,regularization and iterations to find the best model\n",
    "    for fac in range(7,10,1):\n",
    "        for reg in np.arange(0.15,0.2,.05):\n",
    "            for itera in range(30,35,5):\n",
    "                np.random.seed(0)\n",
    "                #Building the ALS Model\n",
    "                model = implicit.als.AlternatingLeastSquares(factors=fac, regularization=reg, iterations=itera)\n",
    "                model.fit(data_conf)\n",
    "                \n",
    "                ## BAYESIAN PERSONALISED RANKING\n",
    "                #extracting the item_vector matrix and user_vector matrix that we have created through the model\n",
    "                item_vecs = model.item_factors\n",
    "                user_vecs = model.user_factors\n",
    "                \n",
    "                # Calculate the AUC SCore\n",
    "                AUC = calc_mean_auc(split_train, masked_users,\n",
    "                                  [sparse.csr_matrix(user_vecs), sparse.csr_matrix(item_vecs.T)], split_test)\n",
    "                \n",
    "                #Extract the values and store in the appropriate lists\n",
    "                best_score=AUC\n",
    "                iteration.append(itera)\n",
    "                regu.append(reg)\n",
    "                fact.append(fac)\n",
    "                alpha_val.append(alpha1)\n",
    "                AUC_score.append(best_score)      \n",
    "\n",
    "                \n",
    "## Store the values of the parameters into a dataframe\n",
    "als_model=percentile_list = pd.DataFrame(\n",
    "    {'iteration': iteration,\n",
    "     'regularization': regu,\n",
    "     'factor': fact,\n",
    "     'alpha':alpha_val,\n",
    "     'AUC':AUC_score,\n",
    "     'Method':'ALS'\n",
    "    })"
   ]
  },
  {
   "cell_type": "code",
   "execution_count": 29,
   "metadata": {},
   "outputs": [
    {
     "data": {
      "application/vnd.jupyter.widget-view+json": {
       "model_id": "5b3a0389fd0e42bca4be7861e800c8fb",
       "version_major": 2,
       "version_minor": 0
      },
      "text/plain": [
       "HBox(children=(FloatProgress(value=0.0, max=30.0), HTML(value='')))"
      ]
     },
     "metadata": {},
     "output_type": "display_data"
    },
    {
     "name": "stdout",
     "output_type": "stream",
     "text": [
      "\n"
     ]
    },
    {
     "data": {
      "application/vnd.jupyter.widget-view+json": {
       "model_id": "a082994ef2d944088ae8850aefa9e732",
       "version_major": 2,
       "version_minor": 0
      },
      "text/plain": [
       "HBox(children=(FloatProgress(value=0.0, max=30.0), HTML(value='')))"
      ]
     },
     "metadata": {},
     "output_type": "display_data"
    },
    {
     "name": "stdout",
     "output_type": "stream",
     "text": [
      "\n"
     ]
    },
    {
     "data": {
      "application/vnd.jupyter.widget-view+json": {
       "model_id": "34e1abc99bbd4e3abc69168b8f22da82",
       "version_major": 2,
       "version_minor": 0
      },
      "text/plain": [
       "HBox(children=(FloatProgress(value=0.0, max=30.0), HTML(value='')))"
      ]
     },
     "metadata": {},
     "output_type": "display_data"
    },
    {
     "name": "stdout",
     "output_type": "stream",
     "text": [
      "\n"
     ]
    },
    {
     "data": {
      "application/vnd.jupyter.widget-view+json": {
       "model_id": "18c272956b4a4de3bb486d3b11ed3ea5",
       "version_major": 2,
       "version_minor": 0
      },
      "text/plain": [
       "HBox(children=(FloatProgress(value=0.0, max=30.0), HTML(value='')))"
      ]
     },
     "metadata": {},
     "output_type": "display_data"
    },
    {
     "name": "stdout",
     "output_type": "stream",
     "text": [
      "\n"
     ]
    },
    {
     "data": {
      "application/vnd.jupyter.widget-view+json": {
       "model_id": "46d48459395d4f7982c7c03bcae389f6",
       "version_major": 2,
       "version_minor": 0
      },
      "text/plain": [
       "HBox(children=(FloatProgress(value=0.0, max=30.0), HTML(value='')))"
      ]
     },
     "metadata": {},
     "output_type": "display_data"
    },
    {
     "name": "stdout",
     "output_type": "stream",
     "text": [
      "\n"
     ]
    },
    {
     "data": {
      "application/vnd.jupyter.widget-view+json": {
       "model_id": "fe13ee2fa26f40b78f80dbd9b74740c1",
       "version_major": 2,
       "version_minor": 0
      },
      "text/plain": [
       "HBox(children=(FloatProgress(value=0.0, max=30.0), HTML(value='')))"
      ]
     },
     "metadata": {},
     "output_type": "display_data"
    },
    {
     "name": "stdout",
     "output_type": "stream",
     "text": [
      "\n"
     ]
    },
    {
     "data": {
      "application/vnd.jupyter.widget-view+json": {
       "model_id": "187d27d297684f969f23cf12f7a11c1e",
       "version_major": 2,
       "version_minor": 0
      },
      "text/plain": [
       "HBox(children=(FloatProgress(value=0.0, max=30.0), HTML(value='')))"
      ]
     },
     "metadata": {},
     "output_type": "display_data"
    },
    {
     "name": "stdout",
     "output_type": "stream",
     "text": [
      "\n"
     ]
    },
    {
     "data": {
      "application/vnd.jupyter.widget-view+json": {
       "model_id": "fd23ea66595f498c9566e82598ded70a",
       "version_major": 2,
       "version_minor": 0
      },
      "text/plain": [
       "HBox(children=(FloatProgress(value=0.0, max=30.0), HTML(value='')))"
      ]
     },
     "metadata": {},
     "output_type": "display_data"
    },
    {
     "name": "stdout",
     "output_type": "stream",
     "text": [
      "\n"
     ]
    },
    {
     "data": {
      "application/vnd.jupyter.widget-view+json": {
       "model_id": "8dc49c47eff14ff2a6ce59f2e6dcab73",
       "version_major": 2,
       "version_minor": 0
      },
      "text/plain": [
       "HBox(children=(FloatProgress(value=0.0, max=30.0), HTML(value='')))"
      ]
     },
     "metadata": {},
     "output_type": "display_data"
    },
    {
     "name": "stdout",
     "output_type": "stream",
     "text": [
      "\n"
     ]
    },
    {
     "data": {
      "application/vnd.jupyter.widget-view+json": {
       "model_id": "9776dd72c0844bdea7745bfa2038037d",
       "version_major": 2,
       "version_minor": 0
      },
      "text/plain": [
       "HBox(children=(FloatProgress(value=0.0, max=30.0), HTML(value='')))"
      ]
     },
     "metadata": {},
     "output_type": "display_data"
    },
    {
     "name": "stdout",
     "output_type": "stream",
     "text": [
      "\n"
     ]
    },
    {
     "data": {
      "application/vnd.jupyter.widget-view+json": {
       "model_id": "ab705af7c0c346a09d099db48f87d2e7",
       "version_major": 2,
       "version_minor": 0
      },
      "text/plain": [
       "HBox(children=(FloatProgress(value=0.0, max=30.0), HTML(value='')))"
      ]
     },
     "metadata": {},
     "output_type": "display_data"
    },
    {
     "name": "stdout",
     "output_type": "stream",
     "text": [
      "\n"
     ]
    },
    {
     "data": {
      "application/vnd.jupyter.widget-view+json": {
       "model_id": "12bd9e14a560499e91be9878aac05345",
       "version_major": 2,
       "version_minor": 0
      },
      "text/plain": [
       "HBox(children=(FloatProgress(value=0.0, max=30.0), HTML(value='')))"
      ]
     },
     "metadata": {},
     "output_type": "display_data"
    },
    {
     "name": "stdout",
     "output_type": "stream",
     "text": [
      "\n"
     ]
    }
   ],
   "source": [
    "\n",
    "#Create empty lists to store the parameters of the model\n",
    "iteration=[]\n",
    "regu=[]\n",
    "fact=[]\n",
    "AUC_score=[]\n",
    "alpha_val=[]\n",
    "\n",
    "#iterate to find the best values of the model by changing the parameters and building the model\n",
    "for alpha1 in range(20,40,10):\n",
    "    \n",
    "    #making the data \n",
    "    data_conf = (split_train * alpha1).astype('double')\n",
    "    \n",
    "    #iterating over factors,regularization and iterations to find the best model\n",
    "    for fac in range(7,10,1):\n",
    "        for reg in np.arange(0.15,0.2,.05):\n",
    "            for itera in range(30,35,5):\n",
    "                np.random.seed(0)\n",
    "                #Building the LMF Model\n",
    "                model = implicit.lmf.LogisticMatrixFactorization(factors=fac, regularization=reg, iterations=itera)\n",
    "                model.fit(data_conf)\n",
    "                \n",
    "                ## BAYESIAN PERSONALISED RANKING\n",
    "                #extracting the item_vector matrix and user_vector matrix that we have created through the model\n",
    "                item_vecs = model.item_factors\n",
    "                user_vecs = model.user_factors\n",
    "                \n",
    "                # Calculate the AUC SCore\n",
    "                AUC = calc_mean_auc(split_train, masked_users,\n",
    "                                  [sparse.csr_matrix(user_vecs), sparse.csr_matrix(item_vecs.T)], split_test)\n",
    "                \n",
    "                #Extract the values and store in the appropriate lists\n",
    "                best_score=AUC\n",
    "                iteration.append(itera)\n",
    "                regu.append(reg)\n",
    "                fact.append(fac)\n",
    "                alpha_val.append(alpha1)\n",
    "                AUC_score.append(best_score)      \n",
    "\n",
    "                \n",
    "## Store the values of the parameters into a dataframe\n",
    "lmf_model=percentile_list = pd.DataFrame(\n",
    "    {'iteration': iteration,\n",
    "     'regularization': regu,\n",
    "     'factor': fact,\n",
    "     'alpha':alpha_val,\n",
    "     'AUC':AUC_score,\n",
    "     'Method':'LMF'\n",
    "    })\n"
   ]
  },
  {
   "cell_type": "code",
   "execution_count": 30,
   "metadata": {},
   "outputs": [
    {
     "data": {
      "application/vnd.jupyter.widget-view+json": {
       "model_id": "2e470531819a45bfb1aa47d6ceb5d40d",
       "version_major": 2,
       "version_minor": 0
      },
      "text/plain": [
       "HBox(children=(FloatProgress(value=0.0, max=30.0), HTML(value='')))"
      ]
     },
     "metadata": {},
     "output_type": "display_data"
    },
    {
     "name": "stdout",
     "output_type": "stream",
     "text": [
      "\n"
     ]
    },
    {
     "data": {
      "application/vnd.jupyter.widget-view+json": {
       "model_id": "3d6edae91fd04b72b09a6d52999b8448",
       "version_major": 2,
       "version_minor": 0
      },
      "text/plain": [
       "HBox(children=(FloatProgress(value=0.0, max=30.0), HTML(value='')))"
      ]
     },
     "metadata": {},
     "output_type": "display_data"
    },
    {
     "name": "stdout",
     "output_type": "stream",
     "text": [
      "\n"
     ]
    },
    {
     "data": {
      "application/vnd.jupyter.widget-view+json": {
       "model_id": "419806e67c644bcdb83c2a63c4372207",
       "version_major": 2,
       "version_minor": 0
      },
      "text/plain": [
       "HBox(children=(FloatProgress(value=0.0, max=30.0), HTML(value='')))"
      ]
     },
     "metadata": {},
     "output_type": "display_data"
    },
    {
     "name": "stdout",
     "output_type": "stream",
     "text": [
      "\n"
     ]
    },
    {
     "data": {
      "application/vnd.jupyter.widget-view+json": {
       "model_id": "3f94d3f04b694eb1b3dd856f4c4bf3aa",
       "version_major": 2,
       "version_minor": 0
      },
      "text/plain": [
       "HBox(children=(FloatProgress(value=0.0, max=30.0), HTML(value='')))"
      ]
     },
     "metadata": {},
     "output_type": "display_data"
    },
    {
     "name": "stdout",
     "output_type": "stream",
     "text": [
      "\n"
     ]
    },
    {
     "data": {
      "application/vnd.jupyter.widget-view+json": {
       "model_id": "58fa084d18ec43d68fdefb8fc4ade563",
       "version_major": 2,
       "version_minor": 0
      },
      "text/plain": [
       "HBox(children=(FloatProgress(value=0.0, max=30.0), HTML(value='')))"
      ]
     },
     "metadata": {},
     "output_type": "display_data"
    },
    {
     "name": "stdout",
     "output_type": "stream",
     "text": [
      "\n"
     ]
    },
    {
     "data": {
      "application/vnd.jupyter.widget-view+json": {
       "model_id": "a9a84988a0be47d689d395ee0058adcd",
       "version_major": 2,
       "version_minor": 0
      },
      "text/plain": [
       "HBox(children=(FloatProgress(value=0.0, max=30.0), HTML(value='')))"
      ]
     },
     "metadata": {},
     "output_type": "display_data"
    },
    {
     "name": "stdout",
     "output_type": "stream",
     "text": [
      "\n"
     ]
    },
    {
     "data": {
      "application/vnd.jupyter.widget-view+json": {
       "model_id": "ee309627dfdd4ef18626be7f467bda33",
       "version_major": 2,
       "version_minor": 0
      },
      "text/plain": [
       "HBox(children=(FloatProgress(value=0.0, max=30.0), HTML(value='')))"
      ]
     },
     "metadata": {},
     "output_type": "display_data"
    },
    {
     "name": "stdout",
     "output_type": "stream",
     "text": [
      "\n"
     ]
    },
    {
     "data": {
      "application/vnd.jupyter.widget-view+json": {
       "model_id": "e161e5b18e9b44868c80668ac2064f90",
       "version_major": 2,
       "version_minor": 0
      },
      "text/plain": [
       "HBox(children=(FloatProgress(value=0.0, max=30.0), HTML(value='')))"
      ]
     },
     "metadata": {},
     "output_type": "display_data"
    },
    {
     "name": "stdout",
     "output_type": "stream",
     "text": [
      "\n"
     ]
    },
    {
     "data": {
      "application/vnd.jupyter.widget-view+json": {
       "model_id": "2cdcb35963a141a1b7b3b746af22a544",
       "version_major": 2,
       "version_minor": 0
      },
      "text/plain": [
       "HBox(children=(FloatProgress(value=0.0, max=30.0), HTML(value='')))"
      ]
     },
     "metadata": {},
     "output_type": "display_data"
    },
    {
     "name": "stdout",
     "output_type": "stream",
     "text": [
      "\n"
     ]
    },
    {
     "data": {
      "application/vnd.jupyter.widget-view+json": {
       "model_id": "3d3802e720f64a3899f34d8ce7e6add1",
       "version_major": 2,
       "version_minor": 0
      },
      "text/plain": [
       "HBox(children=(FloatProgress(value=0.0, max=30.0), HTML(value='')))"
      ]
     },
     "metadata": {},
     "output_type": "display_data"
    },
    {
     "name": "stdout",
     "output_type": "stream",
     "text": [
      "\n"
     ]
    },
    {
     "data": {
      "application/vnd.jupyter.widget-view+json": {
       "model_id": "8d7d34d5e2c24e07aa72b41272b546f4",
       "version_major": 2,
       "version_minor": 0
      },
      "text/plain": [
       "HBox(children=(FloatProgress(value=0.0, max=30.0), HTML(value='')))"
      ]
     },
     "metadata": {},
     "output_type": "display_data"
    },
    {
     "name": "stdout",
     "output_type": "stream",
     "text": [
      "\n"
     ]
    },
    {
     "data": {
      "application/vnd.jupyter.widget-view+json": {
       "model_id": "f3f0ff739f59403185cb5acdd9afe8ad",
       "version_major": 2,
       "version_minor": 0
      },
      "text/plain": [
       "HBox(children=(FloatProgress(value=0.0, max=30.0), HTML(value='')))"
      ]
     },
     "metadata": {},
     "output_type": "display_data"
    },
    {
     "name": "stdout",
     "output_type": "stream",
     "text": [
      "\n"
     ]
    }
   ],
   "source": [
    "\n",
    "#Create empty lists to store the parameters of the model\n",
    "iteration=[]\n",
    "regu=[]\n",
    "fact=[]\n",
    "AUC_score=[]\n",
    "alpha_val=[]\n",
    "\n",
    "\n",
    "#iterate to find the best values of the model by changing the parameters and building the model\n",
    "for alpha1 in range(20,40,10):\n",
    "    \n",
    "    #making the data \n",
    "    data_conf = (split_train * alpha1).astype('double')\n",
    "    \n",
    "    #iterating over factors,regularization and iterations to find the best model\n",
    "    for fac in range(7,10,1):\n",
    "        for reg in np.arange(0.15,0.2,.05):\n",
    "            for itera in range(30,35,5):\n",
    "                np.random.seed(0)\n",
    "                #Building the BPR Model\n",
    "                model = implicit.bpr.BayesianPersonalizedRanking(factors=fac, regularization=reg, iterations=itera)\n",
    "                model.fit(data_conf)\n",
    "                \n",
    "                ## BAYESIAN PERSONALISED RANKING\n",
    "                #extracting the item_vector matrix and user_vector matrix that we have created through the model\n",
    "                item_vecs = model.item_factors\n",
    "                user_vecs = model.user_factors\n",
    "                \n",
    "                # Calculate the AUC SCore\n",
    "                AUC = calc_mean_auc(split_train, masked_users,\n",
    "                                  [sparse.csr_matrix(user_vecs), sparse.csr_matrix(item_vecs.T)], split_test)\n",
    "                \n",
    "                #Extract the values and store in the appropriate lists\n",
    "                best_score=AUC\n",
    "                iteration.append(itera)\n",
    "                regu.append(reg)\n",
    "                fact.append(fac)\n",
    "                alpha_val.append(alpha1)\n",
    "                AUC_score.append(best_score)      \n",
    "\n",
    "                \n",
    "## Store the values of the parameters into a dataframe\n",
    "bpr_model=percentile_list = pd.DataFrame(\n",
    "    {'iteration': iteration,\n",
    "     'regularization': regu,\n",
    "     'factor': fact,\n",
    "     'alpha':alpha_val,\n",
    "     'AUC':AUC_score,\n",
    "     'Method':'BPR'\n",
    "    })\n"
   ]
  },
  {
   "cell_type": "code",
   "execution_count": 31,
   "metadata": {},
   "outputs": [],
   "source": [
    "best_model=pd.DataFrame()\n",
    "best_model=best_model.append([als_model,lmf_model,bpr_model])\n"
   ]
  },
  {
   "cell_type": "code",
   "execution_count": 36,
   "metadata": {},
   "outputs": [
    {
     "data": {
      "text/html": [
       "<div>\n",
       "<style scoped>\n",
       "    .dataframe tbody tr th:only-of-type {\n",
       "        vertical-align: middle;\n",
       "    }\n",
       "\n",
       "    .dataframe tbody tr th {\n",
       "        vertical-align: top;\n",
       "    }\n",
       "\n",
       "    .dataframe thead th {\n",
       "        text-align: right;\n",
       "    }\n",
       "</style>\n",
       "<table border=\"1\" class=\"dataframe\">\n",
       "  <thead>\n",
       "    <tr style=\"text-align: right;\">\n",
       "      <th></th>\n",
       "      <th>iteration</th>\n",
       "      <th>regularization</th>\n",
       "      <th>factor</th>\n",
       "      <th>alpha</th>\n",
       "      <th>AUC</th>\n",
       "      <th>Method</th>\n",
       "    </tr>\n",
       "  </thead>\n",
       "  <tbody>\n",
       "    <tr>\n",
       "      <th>6</th>\n",
       "      <td>30</td>\n",
       "      <td>0.15</td>\n",
       "      <td>7</td>\n",
       "      <td>30</td>\n",
       "      <td>0.794</td>\n",
       "      <td>ALS</td>\n",
       "    </tr>\n",
       "    <tr>\n",
       "      <th>7</th>\n",
       "      <td>30</td>\n",
       "      <td>0.20</td>\n",
       "      <td>7</td>\n",
       "      <td>30</td>\n",
       "      <td>0.794</td>\n",
       "      <td>ALS</td>\n",
       "    </tr>\n",
       "    <tr>\n",
       "      <th>0</th>\n",
       "      <td>30</td>\n",
       "      <td>0.15</td>\n",
       "      <td>7</td>\n",
       "      <td>20</td>\n",
       "      <td>0.793</td>\n",
       "      <td>ALS</td>\n",
       "    </tr>\n",
       "    <tr>\n",
       "      <th>1</th>\n",
       "      <td>30</td>\n",
       "      <td>0.20</td>\n",
       "      <td>7</td>\n",
       "      <td>20</td>\n",
       "      <td>0.793</td>\n",
       "      <td>ALS</td>\n",
       "    </tr>\n",
       "    <tr>\n",
       "      <th>8</th>\n",
       "      <td>30</td>\n",
       "      <td>0.15</td>\n",
       "      <td>8</td>\n",
       "      <td>30</td>\n",
       "      <td>0.789</td>\n",
       "      <td>ALS</td>\n",
       "    </tr>\n",
       "    <tr>\n",
       "      <th>9</th>\n",
       "      <td>30</td>\n",
       "      <td>0.20</td>\n",
       "      <td>8</td>\n",
       "      <td>30</td>\n",
       "      <td>0.789</td>\n",
       "      <td>ALS</td>\n",
       "    </tr>\n",
       "    <tr>\n",
       "      <th>3</th>\n",
       "      <td>30</td>\n",
       "      <td>0.20</td>\n",
       "      <td>8</td>\n",
       "      <td>20</td>\n",
       "      <td>0.788</td>\n",
       "      <td>ALS</td>\n",
       "    </tr>\n",
       "    <tr>\n",
       "      <th>2</th>\n",
       "      <td>30</td>\n",
       "      <td>0.15</td>\n",
       "      <td>8</td>\n",
       "      <td>20</td>\n",
       "      <td>0.788</td>\n",
       "      <td>ALS</td>\n",
       "    </tr>\n",
       "    <tr>\n",
       "      <th>11</th>\n",
       "      <td>30</td>\n",
       "      <td>0.20</td>\n",
       "      <td>9</td>\n",
       "      <td>30</td>\n",
       "      <td>0.788</td>\n",
       "      <td>ALS</td>\n",
       "    </tr>\n",
       "    <tr>\n",
       "      <th>10</th>\n",
       "      <td>30</td>\n",
       "      <td>0.15</td>\n",
       "      <td>9</td>\n",
       "      <td>30</td>\n",
       "      <td>0.788</td>\n",
       "      <td>ALS</td>\n",
       "    </tr>\n",
       "    <tr>\n",
       "      <th>4</th>\n",
       "      <td>30</td>\n",
       "      <td>0.15</td>\n",
       "      <td>9</td>\n",
       "      <td>20</td>\n",
       "      <td>0.784</td>\n",
       "      <td>ALS</td>\n",
       "    </tr>\n",
       "    <tr>\n",
       "      <th>5</th>\n",
       "      <td>30</td>\n",
       "      <td>0.20</td>\n",
       "      <td>9</td>\n",
       "      <td>20</td>\n",
       "      <td>0.784</td>\n",
       "      <td>ALS</td>\n",
       "    </tr>\n",
       "    <tr>\n",
       "      <th>2</th>\n",
       "      <td>30</td>\n",
       "      <td>0.15</td>\n",
       "      <td>8</td>\n",
       "      <td>20</td>\n",
       "      <td>0.666</td>\n",
       "      <td>LMF</td>\n",
       "    </tr>\n",
       "    <tr>\n",
       "      <th>3</th>\n",
       "      <td>30</td>\n",
       "      <td>0.20</td>\n",
       "      <td>8</td>\n",
       "      <td>20</td>\n",
       "      <td>0.660</td>\n",
       "      <td>LMF</td>\n",
       "    </tr>\n",
       "    <tr>\n",
       "      <th>1</th>\n",
       "      <td>30</td>\n",
       "      <td>0.20</td>\n",
       "      <td>7</td>\n",
       "      <td>20</td>\n",
       "      <td>0.648</td>\n",
       "      <td>LMF</td>\n",
       "    </tr>\n",
       "  </tbody>\n",
       "</table>\n",
       "</div>"
      ],
      "text/plain": [
       "    iteration  regularization  factor  alpha    AUC Method\n",
       "6          30            0.15       7     30  0.794    ALS\n",
       "7          30            0.20       7     30  0.794    ALS\n",
       "0          30            0.15       7     20  0.793    ALS\n",
       "1          30            0.20       7     20  0.793    ALS\n",
       "8          30            0.15       8     30  0.789    ALS\n",
       "9          30            0.20       8     30  0.789    ALS\n",
       "3          30            0.20       8     20  0.788    ALS\n",
       "2          30            0.15       8     20  0.788    ALS\n",
       "11         30            0.20       9     30  0.788    ALS\n",
       "10         30            0.15       9     30  0.788    ALS\n",
       "4          30            0.15       9     20  0.784    ALS\n",
       "5          30            0.20       9     20  0.784    ALS\n",
       "2          30            0.15       8     20  0.666    LMF\n",
       "3          30            0.20       8     20  0.660    LMF\n",
       "1          30            0.20       7     20  0.648    LMF"
      ]
     },
     "execution_count": 36,
     "metadata": {},
     "output_type": "execute_result"
    }
   ],
   "source": [
    "#Display the dataframe with the parameters and the AUC scores.\n",
    "best_model = best_model.sort_values(by =['AUC'], ascending=False)\n",
    "best_model.head(15)"
   ]
  },
  {
   "cell_type": "code",
   "execution_count": 95,
   "metadata": {},
   "outputs": [
    {
     "data": {
      "text/plain": [
       "<matplotlib.axes._subplots.AxesSubplot at 0x2a098318c08>"
      ]
     },
     "execution_count": 95,
     "metadata": {},
     "output_type": "execute_result"
    },
    {
     "data": {
      "image/png": "[encoded data removed]",
      "text/plain": [
       "<Figure size 432x288 with 1 Axes>"
      ]
     },
     "metadata": {
      "needs_background": "light"
     },
     "output_type": "display_data"
    }
   ],
   "source": [
    "als=best_model[best_model['Method']=='ALS']\n",
    "lmf=best_model[best_model['Method']=='LMF']\n",
    "bpr=best_model[best_model['Method']=='BPR']\n",
    "als=als[als[\"AUC\"]==als[\"AUC\"].max()]\n",
    "lmf=lmf[lmf[\"AUC\"]==lmf[\"AUC\"].max()]\n",
    "bpr=bpr[bpr[\"AUC\"]==bpr[\"AUC\"].max()]\n",
    "\n",
    "new_model=pd.DataFrame()\n",
    "new_model=new_model.append([als,lmf,bpr])\n",
    "\n",
    "new_model.plot.bar(x='Method', y='AUC', rot=90, title=\"Model Comparison\")\n"
   ]
  },
  {
   "cell_type": "markdown",
   "metadata": {},
   "source": [
    "### 1.8 Building the model with the best parameters\n",
    "\n",
    "From the above evaluation we could find that the model with values for \n",
    "- **alpha=30**,\n",
    "- **factors=7**,\n",
    "- **regularization=0.15**,\n",
    "- **iterations=30** \n",
    "- **method=ALTERNATING LEAST SQAURES**\n",
    "have the best **AUC score** and **NDCG score in KAGGLE**\n",
    "\n",
    "With these values we have built an ALS model and it is fitted with the data "
   ]
  },
  {
   "cell_type": "code",
   "execution_count": 14,
   "metadata": {},
   "outputs": [
    {
     "data": {
      "application/vnd.jupyter.widget-view+json": {
       "model_id": "5ef7ba284f50455db734448fb82cddbf",
       "version_major": 2,
       "version_minor": 0
      },
      "text/plain": [
       "HBox(children=(FloatProgress(value=0.0, max=30.0), HTML(value='')))"
      ]
     },
     "metadata": {},
     "output_type": "display_data"
    },
    {
     "name": "stdout",
     "output_type": "stream",
     "text": [
      "\n"
     ]
    }
   ],
   "source": [
    "#setting random seed to produce reproducibility in the code\n",
    "np.random.seed(0)\n",
    "\n",
    "alpha=30\n",
    "data_new=(sparse_item_user*alpha).astype('double')\n",
    "\n",
    "\n",
    "#Building the model with ALS\n",
    "model = implicit.als.AlternatingLeastSquares(factors=5, regularization=0.15, iterations=30,num_threads=0)\n",
    "model.fit(data_new)"
   ]
  },
  {
   "cell_type": "code",
   "execution_count": 15,
   "metadata": {},
   "outputs": [
    {
     "name": "stdout",
     "output_type": "stream",
     "text": [
      "Dimensions of Item vector matrix :  (2174, 5)\n",
      "Dimensions of User vector matrix :  (2239, 5)\n"
     ]
    }
   ],
   "source": [
    "# Extract the item and user vector from the model built\n",
    "item_vecs = model.item_factors\n",
    "user_vecs = model.user_factors\n",
    "\n",
    "print('Dimensions of Item vector matrix : ', item_vecs.shape)\n",
    "print('Dimensions of User vector matrix : ', user_vecs.shape)"
   ]
  },
  {
   "cell_type": "code",
   "execution_count": 16,
   "metadata": {},
   "outputs": [],
   "source": [
    "AUC = calc_mean_auc(split_train, masked_users,\n",
    "                                  [sparse.csr_matrix(user_vecs), sparse.csr_matrix(item_vecs.T)], split_test)"
   ]
  },
  {
   "cell_type": "code",
   "execution_count": 17,
   "metadata": {},
   "outputs": [
    {
     "data": {
      "text/plain": [
       "0.888"
      ]
     },
     "execution_count": 17,
     "metadata": {},
     "output_type": "execute_result"
    }
   ],
   "source": [
    "AUC"
   ]
  },
  {
   "cell_type": "markdown",
   "metadata": {},
   "source": [
    "### 1.9 Item Recommendation\n",
    "\n",
    "Using the above ALS model we can recommend the items for all the users, The top 10 items are then extracted by comparing the test data provided and scores which is obtained from the recommend() function."
   ]
  },
  {
   "cell_type": "code",
   "execution_count": 39,
   "metadata": {
    "colab": {},
    "colab_type": "code",
    "id": "wea8fwNePtaF"
   },
   "outputs": [],
   "source": [
    "#create Empty dataframes\n",
    "recommendations=pd.DataFrame()\n",
    "recom=pd.DataFrame()\n",
    "\n",
    "\n",
    "# Create recommendations for every user with item id\n",
    "Num_recom=len(train['user_id'].unique())\n",
    "Num_items=len(train['item_id'].unique())\n",
    "\n",
    "\n",
    "for user in range(Num_recom):\n",
    "\n",
    "    # Use the implicit recommender to recommend all the items to the users\n",
    "    recommended = model.recommend(user, sparse_user_item,N = Num_items,filter_already_liked_items = False)\n",
    "\n",
    "    items = []\n",
    "    scores = []\n",
    "\n",
    "    # Get item_id from the recommended values (tuple consisting of the item_id and its score)\n",
    "    items = [a_tuple[0] for a_tuple in recommended]\n",
    "    \n",
    "    #Take a list of item_id for every user present in the test dataset\n",
    "    samp=test[test['user_id']==user]['item_id'].values.tolist()\n",
    "    \n",
    "    # Create a dataframe of item id and user id\n",
    "    s = set(samp)\n",
    "    final=[x for x in items if x in s]\n",
    "    \n",
    "    #Extract only top 10 items for every user\n",
    "    final=final[:10]\n",
    "    \n",
    "    #store user id and item id in the dataframe\n",
    "    recom['user_id']=user\n",
    "    recom['item_id']=final\n",
    "    \n",
    "    #Append the user id and item id into a dataframe\n",
    "    recommendations=recommendations.append(recom)\n",
    "\n",
    "\n"
   ]
  },
  {
   "cell_type": "code",
   "execution_count": 40,
   "metadata": {
    "colab": {},
    "colab_type": "code",
    "id": "mN-BPeZ2Tw7A"
   },
   "outputs": [
    {
     "name": "stdout",
     "output_type": "stream",
     "text": [
      "Dimension of the recommendation dataframe : (22390, 2)\n",
      "\n",
      "Snippet of the dataframe:\n",
      "\n"
     ]
    },
    {
     "data": {
      "text/html": [
       "<div>\n",
       "<style scoped>\n",
       "    .dataframe tbody tr th:only-of-type {\n",
       "        vertical-align: middle;\n",
       "    }\n",
       "\n",
       "    .dataframe tbody tr th {\n",
       "        vertical-align: top;\n",
       "    }\n",
       "\n",
       "    .dataframe thead th {\n",
       "        text-align: right;\n",
       "    }\n",
       "</style>\n",
       "<table border=\"1\" class=\"dataframe\">\n",
       "  <thead>\n",
       "    <tr style=\"text-align: right;\">\n",
       "      <th></th>\n",
       "      <th>user_id</th>\n",
       "      <th>item_id</th>\n",
       "    </tr>\n",
       "  </thead>\n",
       "  <tbody>\n",
       "    <tr>\n",
       "      <th>0</th>\n",
       "      <td>0</td>\n",
       "      <td>555</td>\n",
       "    </tr>\n",
       "    <tr>\n",
       "      <th>1</th>\n",
       "      <td>0</td>\n",
       "      <td>893</td>\n",
       "    </tr>\n",
       "    <tr>\n",
       "      <th>2</th>\n",
       "      <td>0</td>\n",
       "      <td>558</td>\n",
       "    </tr>\n",
       "    <tr>\n",
       "      <th>3</th>\n",
       "      <td>0</td>\n",
       "      <td>1128</td>\n",
       "    </tr>\n",
       "    <tr>\n",
       "      <th>4</th>\n",
       "      <td>0</td>\n",
       "      <td>156</td>\n",
       "    </tr>\n",
       "    <tr>\n",
       "      <th>5</th>\n",
       "      <td>0</td>\n",
       "      <td>1766</td>\n",
       "    </tr>\n",
       "    <tr>\n",
       "      <th>6</th>\n",
       "      <td>0</td>\n",
       "      <td>150</td>\n",
       "    </tr>\n",
       "    <tr>\n",
       "      <th>7</th>\n",
       "      <td>0</td>\n",
       "      <td>1862</td>\n",
       "    </tr>\n",
       "    <tr>\n",
       "      <th>8</th>\n",
       "      <td>0</td>\n",
       "      <td>239</td>\n",
       "    </tr>\n",
       "    <tr>\n",
       "      <th>9</th>\n",
       "      <td>0</td>\n",
       "      <td>1363</td>\n",
       "    </tr>\n",
       "  </tbody>\n",
       "</table>\n",
       "</div>"
      ],
      "text/plain": [
       "   user_id  item_id\n",
       "0        0      555\n",
       "1        0      893\n",
       "2        0      558\n",
       "3        0     1128\n",
       "4        0      156\n",
       "5        0     1766\n",
       "6        0      150\n",
       "7        0     1862\n",
       "8        0      239\n",
       "9        0     1363"
      ]
     },
     "execution_count": 40,
     "metadata": {},
     "output_type": "execute_result"
    }
   ],
   "source": [
    "#The null values are replaced and the datatype of the column in the dataframe is converted to integer\n",
    "recommendations=recommendations.fillna((train['user_id'].min()))\n",
    "recommendations=recommendations.astype('int64')\n",
    "\n",
    "print(\"Dimension of the recommendation dataframe :\", recommendations.shape)\n",
    "\n",
    "print(\"\\nSnippet of the dataframe:\\n\")\n",
    "recommendations.head(10)"
   ]
  },
  {
   "cell_type": "markdown",
   "metadata": {},
   "source": [
    "### 1.10 Storing the results\n",
    "\n",
    "The top 10 items for every user is recommended and the data frame is written into a csv file, which is submitted to kaggle to find the ndcg score."
   ]
  },
  {
   "cell_type": "code",
   "execution_count": 41,
   "metadata": {
    "colab": {},
    "colab_type": "code",
    "id": "Nfp04rmdMTb_"
   },
   "outputs": [],
   "source": [
    "#The result is written into a csv file \n",
    "recommendations.to_csv('30159474.csv', index = False)"
   ]
  },
  {
   "cell_type": "markdown",
   "metadata": {
    "colab": {},
    "colab_type": "code",
    "id": "gyf1LX8JB9cj"
   },
   "source": [
    "## Part 2:  Node Classification in Graphs\n",
    "\n",
    "The given task is to classify the nodes in the given graph which is a citation network graph. The nodes in the graph are the papers, the edges in the graph is the relationship between two papers(nodes). The node classification is done based on the labels provided.\n",
    "\n",
    "\n",
    "### 2.1 Importing the necessary libraries\n",
    "Import the packages and libraries which are required to perform the underlying tasks."
   ]
  },
  {
   "cell_type": "code",
   "execution_count": 42,
   "metadata": {
    "colab": {},
    "colab_type": "code",
    "id": "_ZVf5SqAB9cp"
   },
   "outputs": [],
   "source": [
    "import networkx as nx\n",
    "import matplotlib.pyplot as plt\n",
    "from IPython.display import Image\n",
    "import seaborn as sns\n",
    "import numpy as np\n",
    "%matplotlib inline\n",
    "import pandas as pd\n",
    "\n",
    "from node2vec import Node2Vec\n",
    "\n",
    "import warnings\n",
    "from collections import deque\n",
    "warnings.filterwarnings('ignore')\n",
    "\n",
    "from nltk.corpus import stopwords\n",
    "from nltk import word_tokenize    \n",
    "from sklearn.svm import LinearSVC, SVC\n",
    "from nltk.stem import WordNetLemmatizer\n",
    "from sklearn.model_selection import cross_val_score\n",
    "from sklearn.model_selection import train_test_split\n",
    "from scipy.sparse import hstack\n",
    "\n",
    "from sklearn.ensemble import RandomForestClassifier\n",
    "from sklearn.linear_model import SGDClassifier\n",
    "from sklearn.feature_extraction.text import TfidfVectorizer\n",
    "from sklearn.metrics import precision_score, recall_score, f1_score, accuracy_score, confusion_matrix, matthews_corrcoef\n",
    "\n"
   ]
  },
  {
   "cell_type": "markdown",
   "metadata": {},
   "source": [
    "### 2.2 Creating the graph \n",
    "\n",
    "A graph with nodes(papers) and edge(relationship between the papers)."
   ]
  },
  {
   "cell_type": "code",
   "execution_count": 43,
   "metadata": {
    "colab": {},
    "colab_type": "code",
    "id": "qwTQX-x4B9cy"
   },
   "outputs": [],
   "source": [
    "# creating an empty graph with 0 nodes and 0 edges\n",
    "G = nx.Graph()"
   ]
  },
  {
   "cell_type": "code",
   "execution_count": 44,
   "metadata": {
    "colab": {
     "base_uri": "https://localhost:8080/",
     "height": 83
    },
    "colab_type": "code",
    "id": "n_rjTKrsB9c1",
    "outputId": "a433a9b9-5371-481c-9cc3-455e01642c08"
   },
   "outputs": [
    {
     "name": "stdout",
     "output_type": "stream",
     "text": [
      "[]\n",
      "[]\n",
      "<class 'networkx.classes.reportviews.NodeView'>\n",
      "<class 'networkx.classes.reportviews.EdgeView'>\n"
     ]
    }
   ],
   "source": [
    "#display the nodes and edges for the graph G \n",
    "print(G.nodes())\n",
    "print(G.edges())\n",
    "\n",
    "#display the type of the nodes and edges\n",
    "print(type(G.nodes()))\n",
    "print(type(G.edges()))"
   ]
  },
  {
   "cell_type": "markdown",
   "metadata": {},
   "source": [
    "#### 2.2.1 Reading the nodes\n",
    "The nodes are read from the docs.txt and the title and node_id is stored in the dataframe."
   ]
  },
  {
   "cell_type": "code",
   "execution_count": 45,
   "metadata": {
    "colab": {
     "base_uri": "https://localhost:8080/",
     "height": 33
    },
    "colab_type": "code",
    "id": "_18t2wCoB9dl",
    "outputId": "9f78aff0-9142-47ff-d79d-1cda73344c40"
   },
   "outputs": [],
   "source": [
    "#Read the data from the docs file store the content of node_id and title\n",
    "node_id=[]\n",
    "node_content=[]\n",
    "node_data=pd.DataFrame()\n",
    "\n",
    "with open('docs.txt','r',encoding='utf-8') as nodes:\n",
    "    for line in nodes.readlines():\n",
    "        node_id.append(line.split(' ')[0])\n",
    "        node_content.append(' '.join(line.split()[1:]))\n",
    "\n",
    "#store the node_id and title in the dataframe\n",
    "node_data['Node_id']=node_id\n",
    "node_data['Title']=node_content"
   ]
  },
  {
   "cell_type": "markdown",
   "metadata": {},
   "source": [
    "#### 2.2.2 Reading the edges\n",
    "\n",
    "The adjacent edges are read from the adjedges.txt file and the first node is the source node and the rest nodes in the line are the destination nodes.\n",
    "\n",
    "- The lines which has one node denotes it doesnot have any connections with other nodes\n",
    "- The lines which has 2 nodes denotes there is one source and only one destination\n",
    "- The rest of the lines denote that the source node has many connections to different destination nodes\n",
    "\n",
    "After which the list with tuples is created with the source and destination nodes to represent each and every connection."
   ]
  },
  {
   "cell_type": "code",
   "execution_count": 46,
   "metadata": {
    "colab": {},
    "colab_type": "code",
    "id": "5Su8HtjNB9ep"
   },
   "outputs": [],
   "source": [
    "#https://kite.com/python/answers/how-to-convert-each-line-in-a-text-file-into-a-list-in-python\n",
    "\n",
    "#Read the adjacent edges file in read mode\n",
    "a_file = open(\"adjedges.txt\", \"r\")\n",
    "\n",
    "edges = []\n",
    "for line in a_file:\n",
    "    stripped_line = line.strip()\n",
    "    line_list = tuple(stripped_line.split())\n",
    "    edges.append(line_list)\n",
    "\n",
    "a_file.close()\n"
   ]
  },
  {
   "cell_type": "code",
   "execution_count": 47,
   "metadata": {
    "colab": {},
    "colab_type": "code",
    "id": "fSpr1PcaB9e1"
   },
   "outputs": [],
   "source": [
    "#https://stackoverflow.com/questions/14616519/how-to-remove-a-list-within-list-based-on-len-in-python\n",
    "\n",
    "#List containing only nodes which have edges\n",
    "edge = [x for x in edges if len(x)  >1]\n",
    "\n",
    "# list which containing only  one edge between the source and destination\n",
    "edge1 = [x for x in edge if len(x) ==2]\n",
    "\n",
    "#list containing nodes which has more than one edge from one single source node\n",
    "edge2 = [x for x in edge if len(x) > 2]"
   ]
  },
  {
   "cell_type": "code",
   "execution_count": 48,
   "metadata": {
    "colab": {},
    "colab_type": "code",
    "id": "7tz0cOC8B9fK"
   },
   "outputs": [],
   "source": [
    "#Edge list is used to create a list of tuples in each with the source and destination in each tuple.\n",
    "\n",
    "edgelist=[]\n",
    "for val in range(0,len(edge2)):\n",
    "    tupedge=edge2[val]\n",
    "    for i in range(0,len(tupedge)-1):\n",
    "        tup=(tupedge[0],tupedge[i+1])\n",
    "        edgelist.append(tup)"
   ]
  },
  {
   "cell_type": "code",
   "execution_count": 49,
   "metadata": {
    "colab": {},
    "colab_type": "code",
    "id": "VcOxVaIaB9fZ"
   },
   "outputs": [],
   "source": [
    "#concatenating the list of tuples from the source with one destination and many destinations into one list\n",
    "adjedge=edge1+edgelist"
   ]
  },
  {
   "cell_type": "markdown",
   "metadata": {},
   "source": [
    "#### 2.2.3 Generating the graph\n",
    "\n",
    "The nodes and edges are added to the empty graph from the node_id and list of tuples with source and detination edges without any duplicate entries using the set datatype.There are totaaly **54183** edges and **36928** nodes in the graphs."
   ]
  },
  {
   "cell_type": "code",
   "execution_count": 50,
   "metadata": {
    "colab": {},
    "colab_type": "code",
    "id": "R0EkthqtB9fk"
   },
   "outputs": [],
   "source": [
    "#adding the nodes and edges without duplicate entries\n",
    "G.add_nodes_from(set(node_id))\n",
    "G.add_edges_from(set(adjedge))"
   ]
  },
  {
   "cell_type": "code",
   "execution_count": 51,
   "metadata": {},
   "outputs": [
    {
     "name": "stdout",
     "output_type": "stream",
     "text": [
      "Number of edges: 54183\n",
      "Number of nodes: 36928\n",
      "<class 'networkx.classes.reportviews.NodeView'>\n",
      "<class 'networkx.classes.reportviews.EdgeView'>\n"
     ]
    }
   ],
   "source": [
    "#display the nodes and edges for the graph G \n",
    "print(\"Number of edges:\",G.number_of_edges())\n",
    "print(\"Number of nodes:\",G.number_of_nodes())\n",
    "\n",
    "#display the type of the nodes and edges\n",
    "print(type(G.nodes()))\n",
    "print(type(G.edges()))"
   ]
  },
  {
   "cell_type": "markdown",
   "metadata": {},
   "source": [
    "#### 2.2.4 Reading the nodes for classification\n",
    "\n",
    "The nodes which are needed to classified is read into the dataframe with the labels."
   ]
  },
  {
   "cell_type": "code",
   "execution_count": 52,
   "metadata": {},
   "outputs": [],
   "source": [
    "#Read the data from the labels.txt file and store in dataframe\n",
    "labels_data =  pd.read_csv('labels.txt', sep='\\s',header = None)\n",
    "labels_data.columns = ['Node', 'Label']\n",
    "labels_df = labels_data.astype(str)\n",
    "labels_df\n",
    "\n",
    "\n",
    "#Take the list of nodes from the dataframe.\n",
    "label_node=[labels_df['Node']]\n"
   ]
  },
  {
   "cell_type": "markdown",
   "metadata": {},
   "source": [
    "### 2.3  Embedding\n",
    "\n",
    "#### 2.3.1 Node2Vec Implementation\n",
    "Node2Vecis used in mapping the nodes to low-dimensional embeddings\n",
    "Node Embedding is performed to encode nodes so that similarity in the embedding space like the dot product approximates to the similarity in the graph network.\n",
    "\n",
    "Node2vec model is built for the graph G with 32 dimensions, 20 walk_length with 50 walks.\n",
    "\n",
    "The **x** holds the 32 dimensional input features and **y** holds the corresponding target values.\n",
    "\n",
    "Basically the window size is set as 10 for deepwalk and Batch_words=4 gives better vectors \n",
    "###### Reference : http://snap.stanford.edu/proj/embeddings-www/files/nrltutorial-part1-embeddings.pdf"
   ]
  },
  {
   "cell_type": "code",
   "execution_count": 53,
   "metadata": {},
   "outputs": [
    {
     "name": "stderr",
     "output_type": "stream",
     "text": [
      "Computing transition probabilities: 100%|██████████████████████████████████████| 36928/36928 [00:08<00:00, 4213.18it/s]\n",
      "Generating walks (CPU: 1): 100%|███████████████████████████████████████████████████████| 50/50 [20:12<00:00, 24.25s/it]\n"
     ]
    }
   ],
   "source": [
    "#pre-compute the probabilities and generate walks :\n",
    "node2vec = Node2Vec(G, dimensions=32, walk_length=20, num_walks=50)\n"
   ]
  },
  {
   "cell_type": "code",
   "execution_count": 54,
   "metadata": {},
   "outputs": [],
   "source": [
    "#embed the nodes by fitting the model using Node2Vec\n",
    "embed_node = node2vec.fit(window=10, min_count=1, batch_words=4)"
   ]
  },
  {
   "cell_type": "code",
   "execution_count": 55,
   "metadata": {},
   "outputs": [
    {
     "data": {
      "text/plain": [
       "<gensim.models.word2vec.Word2Vec at 0x2a0965f4508>"
      ]
     },
     "execution_count": 55,
     "metadata": {},
     "output_type": "execute_result"
    }
   ],
   "source": [
    "embed_node"
   ]
  },
  {
   "cell_type": "code",
   "execution_count": 56,
   "metadata": {},
   "outputs": [],
   "source": [
    "#The nodes which are present in the labels dataframe are filtered from the embedded nodes.\n",
    "x = embed_node.wv[labels_df['Node']].tolist()\n",
    "\n",
    "#Labels are converted into a list the target values\n",
    "y = labels_df['Label'].tolist()"
   ]
  },
  {
   "cell_type": "markdown",
   "metadata": {},
   "source": [
    "#### 2.3.2 Text Embedding\n",
    "\n",
    "The titles of the paper(node) is being embedding using the **TF_IDF** vectorizer by preprocessing and tokenising the titles of the nodes.The stopwords in the titles are removed , document frequency is not considered as it is the title and not a big document as is set as it is generally used.Use of ngrams is not necessary as it is title."
   ]
  },
  {
   "cell_type": "code",
   "execution_count": 57,
   "metadata": {},
   "outputs": [],
   "source": [
    "#doing the Lemmatization using wordnet lemmatization\n",
    "class LemmaTokenizer(object):\n",
    "    def __init__(self):\n",
    "        self.wnl=WordNetLemmatizer()\n",
    "    def __call__(self,doc):\n",
    "        return [self.wnl.lemmatize(t) for t in word_tokenize(doc)]\n",
    "    "
   ]
  },
  {
   "cell_type": "code",
   "execution_count": 58,
   "metadata": {},
   "outputs": [],
   "source": [
    "import string"
   ]
  },
  {
   "cell_type": "code",
   "execution_count": 59,
   "metadata": {},
   "outputs": [],
   "source": [
    "#Create a list of stopwords  and punctuation \n",
    "final_stopwords_list=stopwords.words('english')+list(string.punctuation)\n",
    "\n",
    "# Creating a Vectorizer to convert the strngs into tokens\n",
    "vectorizer=TfidfVectorizer(analyzer='word',input='content',\n",
    "                           lowercase=True,\n",
    "                           token_pattern='(?u)\\\\b\\\\w\\\\w+\\\\b', \n",
    "                           stop_words=final_stopwords_list,\n",
    "                           tokenizer=LemmaTokenizer()\n",
    "                          )"
   ]
  },
  {
   "cell_type": "code",
   "execution_count": 60,
   "metadata": {},
   "outputs": [],
   "source": [
    "#Get the Title into the list to transform using the vectorizer\n",
    "trainTitle = node_data['Title'].tolist() \n",
    "vectorized=vectorizer.fit_transform(trainTitle)\n",
    "\n",
    "#Convert the Node2Vec embedded nodes into an array\n",
    "X1=np.array(x)"
   ]
  },
  {
   "cell_type": "code",
   "execution_count": 61,
   "metadata": {},
   "outputs": [
    {
     "name": "stdout",
     "output_type": "stream",
     "text": [
      "Dimensions of the embedded vectors: (18720, 32)\n"
     ]
    }
   ],
   "source": [
    "print(\"Dimensions of the embedded vectors:\",X1.shape)"
   ]
  },
  {
   "cell_type": "markdown",
   "metadata": {},
   "source": [
    "### 2.3.3 Stacking the embedding results\n",
    "\n",
    "Hstack is used to horizontally stack sparse matrices of the results of text and node embedding."
   ]
  },
  {
   "cell_type": "code",
   "execution_count": 62,
   "metadata": {},
   "outputs": [],
   "source": [
    "#the results of the text and node embedding is stacked horizontaly(column-wise) and it returns a CSR matrix.\n",
    "Xfull=hstack((vectorized,X1),format='csr')"
   ]
  },
  {
   "cell_type": "markdown",
   "metadata": {},
   "source": [
    "### 2.4 Splitting the Train and Test dataset\n",
    "\n",
    "The csr matrix is divided into train and test dataset into the **20:80** ratio and **seed** is set using the **random_state** which is an integer that sets the seed for the random number generator during the train and test split.This is because typically for node classification in any given network, we only have a small number of training data. The 3 types data(node embedding,text embedding and the stacked embedding) is split into train and test data to know the best accurate ones."
   ]
  },
  {
   "cell_type": "code",
   "execution_count": 63,
   "metadata": {},
   "outputs": [],
   "source": [
    "#https://medium.com/@contactsunny/how-to-split-your-dataset-to-train-and-test-datasets-using-scikit-learn-e7cf6eb5e0d\n",
    "np.random.seed(0)\n",
    "#The network is being split into train and test datasets.\n",
    "x_train_full,x_test_full,y_train_full,y_test_full = train_test_split(Xfull,y,train_size = 0.2,random_state=None)\n",
    "x_train_text,x_test_text,y_train_text,y_test_text = train_test_split(vectorized,y,train_size = 0.2,random_state=None)\n",
    "x_train_node,x_test_node,y_train_node,y_test_node = train_test_split(X1,y,train_size = 0.2,random_state=None)"
   ]
  },
  {
   "cell_type": "markdown",
   "metadata": {},
   "source": [
    "### 2.5 Model Comparison\n",
    "\n",
    "Four different traditional models are built and tested using Cross-validation for 5 folds to identify the best fit model for the classification task. Methods selected are SGD Classifier, SVC, Linear SVC and Random Forest. These models are built for all of the network train data and one of the model which has higher accuracy is selected as the best Classifier model. A boxplot with jitter points is plotted across the accuracy and the most accurate model will be chosen.\n",
    "\n",
    "The crossvalidation is performed for the text embedded, node embedded and finally for the full stacked (node and text embedded) datasets.\n",
    "\n",
    "It is found that the ensembled version of the embedding (node and text embedding) has given more accuracy. Therefore its metrics are being calculated for the linear SVC as it has more accuracy"
   ]
  },
  {
   "cell_type": "code",
   "execution_count": 64,
   "metadata": {},
   "outputs": [
    {
     "data": {
      "text/html": [
       "<div>\n",
       "<style scoped>\n",
       "    .dataframe tbody tr th:only-of-type {\n",
       "        vertical-align: middle;\n",
       "    }\n",
       "\n",
       "    .dataframe tbody tr th {\n",
       "        vertical-align: top;\n",
       "    }\n",
       "\n",
       "    .dataframe thead th {\n",
       "        text-align: right;\n",
       "    }\n",
       "</style>\n",
       "<table border=\"1\" class=\"dataframe\">\n",
       "  <thead>\n",
       "    <tr style=\"text-align: right;\">\n",
       "      <th></th>\n",
       "      <th>model_name</th>\n",
       "      <th>fold_idx</th>\n",
       "      <th>accuracy</th>\n",
       "    </tr>\n",
       "  </thead>\n",
       "  <tbody>\n",
       "    <tr>\n",
       "      <th>0</th>\n",
       "      <td>SGDClassifier</td>\n",
       "      <td>0</td>\n",
       "      <td>0.503338</td>\n",
       "    </tr>\n",
       "    <tr>\n",
       "      <th>1</th>\n",
       "      <td>SGDClassifier</td>\n",
       "      <td>1</td>\n",
       "      <td>0.475300</td>\n",
       "    </tr>\n",
       "    <tr>\n",
       "      <th>2</th>\n",
       "      <td>SGDClassifier</td>\n",
       "      <td>2</td>\n",
       "      <td>0.472630</td>\n",
       "    </tr>\n",
       "    <tr>\n",
       "      <th>3</th>\n",
       "      <td>SGDClassifier</td>\n",
       "      <td>3</td>\n",
       "      <td>0.497997</td>\n",
       "    </tr>\n",
       "    <tr>\n",
       "      <th>4</th>\n",
       "      <td>SGDClassifier</td>\n",
       "      <td>4</td>\n",
       "      <td>0.509358</td>\n",
       "    </tr>\n",
       "    <tr>\n",
       "      <th>5</th>\n",
       "      <td>SVC</td>\n",
       "      <td>0</td>\n",
       "      <td>0.575434</td>\n",
       "    </tr>\n",
       "    <tr>\n",
       "      <th>6</th>\n",
       "      <td>SVC</td>\n",
       "      <td>1</td>\n",
       "      <td>0.563418</td>\n",
       "    </tr>\n",
       "    <tr>\n",
       "      <th>7</th>\n",
       "      <td>SVC</td>\n",
       "      <td>2</td>\n",
       "      <td>0.587450</td>\n",
       "    </tr>\n",
       "    <tr>\n",
       "      <th>8</th>\n",
       "      <td>SVC</td>\n",
       "      <td>3</td>\n",
       "      <td>0.582109</td>\n",
       "    </tr>\n",
       "    <tr>\n",
       "      <th>9</th>\n",
       "      <td>SVC</td>\n",
       "      <td>4</td>\n",
       "      <td>0.578877</td>\n",
       "    </tr>\n",
       "    <tr>\n",
       "      <th>10</th>\n",
       "      <td>LinearSVC</td>\n",
       "      <td>0</td>\n",
       "      <td>0.528705</td>\n",
       "    </tr>\n",
       "    <tr>\n",
       "      <th>11</th>\n",
       "      <td>LinearSVC</td>\n",
       "      <td>1</td>\n",
       "      <td>0.526035</td>\n",
       "    </tr>\n",
       "    <tr>\n",
       "      <th>12</th>\n",
       "      <td>LinearSVC</td>\n",
       "      <td>2</td>\n",
       "      <td>0.548732</td>\n",
       "    </tr>\n",
       "    <tr>\n",
       "      <th>13</th>\n",
       "      <td>LinearSVC</td>\n",
       "      <td>3</td>\n",
       "      <td>0.520694</td>\n",
       "    </tr>\n",
       "    <tr>\n",
       "      <th>14</th>\n",
       "      <td>LinearSVC</td>\n",
       "      <td>4</td>\n",
       "      <td>0.525401</td>\n",
       "    </tr>\n",
       "    <tr>\n",
       "      <th>15</th>\n",
       "      <td>RandomForestClassifier</td>\n",
       "      <td>0</td>\n",
       "      <td>0.571429</td>\n",
       "    </tr>\n",
       "    <tr>\n",
       "      <th>16</th>\n",
       "      <td>RandomForestClassifier</td>\n",
       "      <td>1</td>\n",
       "      <td>0.594126</td>\n",
       "    </tr>\n",
       "    <tr>\n",
       "      <th>17</th>\n",
       "      <td>RandomForestClassifier</td>\n",
       "      <td>2</td>\n",
       "      <td>0.588785</td>\n",
       "    </tr>\n",
       "    <tr>\n",
       "      <th>18</th>\n",
       "      <td>RandomForestClassifier</td>\n",
       "      <td>3</td>\n",
       "      <td>0.603471</td>\n",
       "    </tr>\n",
       "    <tr>\n",
       "      <th>19</th>\n",
       "      <td>RandomForestClassifier</td>\n",
       "      <td>4</td>\n",
       "      <td>0.588235</td>\n",
       "    </tr>\n",
       "  </tbody>\n",
       "</table>\n",
       "</div>"
      ],
      "text/plain": [
       "                model_name  fold_idx  accuracy\n",
       "0            SGDClassifier         0  0.503338\n",
       "1            SGDClassifier         1  0.475300\n",
       "2            SGDClassifier         2  0.472630\n",
       "3            SGDClassifier         3  0.497997\n",
       "4            SGDClassifier         4  0.509358\n",
       "5                      SVC         0  0.575434\n",
       "6                      SVC         1  0.563418\n",
       "7                      SVC         2  0.587450\n",
       "8                      SVC         3  0.582109\n",
       "9                      SVC         4  0.578877\n",
       "10               LinearSVC         0  0.528705\n",
       "11               LinearSVC         1  0.526035\n",
       "12               LinearSVC         2  0.548732\n",
       "13               LinearSVC         3  0.520694\n",
       "14               LinearSVC         4  0.525401\n",
       "15  RandomForestClassifier         0  0.571429\n",
       "16  RandomForestClassifier         1  0.594126\n",
       "17  RandomForestClassifier         2  0.588785\n",
       "18  RandomForestClassifier         3  0.603471\n",
       "19  RandomForestClassifier         4  0.588235"
      ]
     },
     "execution_count": 64,
     "metadata": {},
     "output_type": "execute_result"
    }
   ],
   "source": [
    "# Training: Using 4 different models and 5 fold cross validation to see which one is better\n",
    "models = [\n",
    "    SGDClassifier(),\n",
    "    SVC(),\n",
    "    LinearSVC(),\n",
    "    RandomForestClassifier()\n",
    "    \n",
    "] \n",
    "CV = 5\n",
    "cv_df = pd.DataFrame(index=range(CV * len(models))) #adding them in the df\n",
    "entries = []\n",
    "for models in models:\n",
    "     model_name = models.__class__.__name__\n",
    "     accuracies = cross_val_score(models, x_train_node, y_train_node, scoring='accuracy', cv=CV) #finding accuracies\n",
    "     for fold_idx, accuracy in enumerate(accuracies):\n",
    "          entries.append((model_name, fold_idx, accuracy))\n",
    "cv_model_df_node = pd.DataFrame(entries, columns=['model_name', 'fold_idx', 'accuracy'])\n",
    "cv_model_df_node"
   ]
  },
  {
   "cell_type": "code",
   "execution_count": 75,
   "metadata": {},
   "outputs": [
    {
     "data": {
      "image/png": "[encoded data removed]",
      "text/plain": [
       "<Figure size 432x288 with 1 Axes>"
      ]
     },
     "metadata": {
      "needs_background": "light"
     },
     "output_type": "display_data"
    }
   ],
   "source": [
    "import seaborn as sns\n",
    "sns.boxplot(x='model_name', y='accuracy', data=cv_model_df_node) #boxplot to see which model performs better\n",
    "sns.stripplot(x='model_name', y='accuracy', data=cv_model_df_node, \n",
    "              size=8, jitter=True, edgecolor=\"gray\", linewidth=2)\n",
    "plt.title(\"Node Embedding\")\n",
    "plt.show()"
   ]
  },
  {
   "cell_type": "code",
   "execution_count": 66,
   "metadata": {},
   "outputs": [
    {
     "data": {
      "text/html": [
       "<div>\n",
       "<style scoped>\n",
       "    .dataframe tbody tr th:only-of-type {\n",
       "        vertical-align: middle;\n",
       "    }\n",
       "\n",
       "    .dataframe tbody tr th {\n",
       "        vertical-align: top;\n",
       "    }\n",
       "\n",
       "    .dataframe thead th {\n",
       "        text-align: right;\n",
       "    }\n",
       "</style>\n",
       "<table border=\"1\" class=\"dataframe\">\n",
       "  <thead>\n",
       "    <tr style=\"text-align: right;\">\n",
       "      <th></th>\n",
       "      <th>model_name</th>\n",
       "      <th>fold_idx</th>\n",
       "      <th>accuracy</th>\n",
       "    </tr>\n",
       "  </thead>\n",
       "  <tbody>\n",
       "    <tr>\n",
       "      <th>0</th>\n",
       "      <td>SGDClassifier</td>\n",
       "      <td>0</td>\n",
       "      <td>0.714286</td>\n",
       "    </tr>\n",
       "    <tr>\n",
       "      <th>1</th>\n",
       "      <td>SGDClassifier</td>\n",
       "      <td>1</td>\n",
       "      <td>0.730307</td>\n",
       "    </tr>\n",
       "    <tr>\n",
       "      <th>2</th>\n",
       "      <td>SGDClassifier</td>\n",
       "      <td>2</td>\n",
       "      <td>0.758344</td>\n",
       "    </tr>\n",
       "    <tr>\n",
       "      <th>3</th>\n",
       "      <td>SGDClassifier</td>\n",
       "      <td>3</td>\n",
       "      <td>0.727637</td>\n",
       "    </tr>\n",
       "    <tr>\n",
       "      <th>4</th>\n",
       "      <td>SGDClassifier</td>\n",
       "      <td>4</td>\n",
       "      <td>0.740642</td>\n",
       "    </tr>\n",
       "    <tr>\n",
       "      <th>5</th>\n",
       "      <td>SVC</td>\n",
       "      <td>0</td>\n",
       "      <td>0.672897</td>\n",
       "    </tr>\n",
       "    <tr>\n",
       "      <th>6</th>\n",
       "      <td>SVC</td>\n",
       "      <td>1</td>\n",
       "      <td>0.698264</td>\n",
       "    </tr>\n",
       "    <tr>\n",
       "      <th>7</th>\n",
       "      <td>SVC</td>\n",
       "      <td>2</td>\n",
       "      <td>0.722296</td>\n",
       "    </tr>\n",
       "    <tr>\n",
       "      <th>8</th>\n",
       "      <td>SVC</td>\n",
       "      <td>3</td>\n",
       "      <td>0.703605</td>\n",
       "    </tr>\n",
       "    <tr>\n",
       "      <th>9</th>\n",
       "      <td>SVC</td>\n",
       "      <td>4</td>\n",
       "      <td>0.703209</td>\n",
       "    </tr>\n",
       "    <tr>\n",
       "      <th>10</th>\n",
       "      <td>LinearSVC</td>\n",
       "      <td>0</td>\n",
       "      <td>0.740988</td>\n",
       "    </tr>\n",
       "    <tr>\n",
       "      <th>11</th>\n",
       "      <td>LinearSVC</td>\n",
       "      <td>1</td>\n",
       "      <td>0.732977</td>\n",
       "    </tr>\n",
       "    <tr>\n",
       "      <th>12</th>\n",
       "      <td>LinearSVC</td>\n",
       "      <td>2</td>\n",
       "      <td>0.762350</td>\n",
       "    </tr>\n",
       "    <tr>\n",
       "      <th>13</th>\n",
       "      <td>LinearSVC</td>\n",
       "      <td>3</td>\n",
       "      <td>0.746328</td>\n",
       "    </tr>\n",
       "    <tr>\n",
       "      <th>14</th>\n",
       "      <td>LinearSVC</td>\n",
       "      <td>4</td>\n",
       "      <td>0.763369</td>\n",
       "    </tr>\n",
       "    <tr>\n",
       "      <th>15</th>\n",
       "      <td>RandomForestClassifier</td>\n",
       "      <td>0</td>\n",
       "      <td>0.716956</td>\n",
       "    </tr>\n",
       "    <tr>\n",
       "      <th>16</th>\n",
       "      <td>RandomForestClassifier</td>\n",
       "      <td>1</td>\n",
       "      <td>0.724967</td>\n",
       "    </tr>\n",
       "    <tr>\n",
       "      <th>17</th>\n",
       "      <td>RandomForestClassifier</td>\n",
       "      <td>2</td>\n",
       "      <td>0.735648</td>\n",
       "    </tr>\n",
       "    <tr>\n",
       "      <th>18</th>\n",
       "      <td>RandomForestClassifier</td>\n",
       "      <td>3</td>\n",
       "      <td>0.728972</td>\n",
       "    </tr>\n",
       "    <tr>\n",
       "      <th>19</th>\n",
       "      <td>RandomForestClassifier</td>\n",
       "      <td>4</td>\n",
       "      <td>0.704545</td>\n",
       "    </tr>\n",
       "  </tbody>\n",
       "</table>\n",
       "</div>"
      ],
      "text/plain": [
       "                model_name  fold_idx  accuracy\n",
       "0            SGDClassifier         0  0.714286\n",
       "1            SGDClassifier         1  0.730307\n",
       "2            SGDClassifier         2  0.758344\n",
       "3            SGDClassifier         3  0.727637\n",
       "4            SGDClassifier         4  0.740642\n",
       "5                      SVC         0  0.672897\n",
       "6                      SVC         1  0.698264\n",
       "7                      SVC         2  0.722296\n",
       "8                      SVC         3  0.703605\n",
       "9                      SVC         4  0.703209\n",
       "10               LinearSVC         0  0.740988\n",
       "11               LinearSVC         1  0.732977\n",
       "12               LinearSVC         2  0.762350\n",
       "13               LinearSVC         3  0.746328\n",
       "14               LinearSVC         4  0.763369\n",
       "15  RandomForestClassifier         0  0.716956\n",
       "16  RandomForestClassifier         1  0.724967\n",
       "17  RandomForestClassifier         2  0.735648\n",
       "18  RandomForestClassifier         3  0.728972\n",
       "19  RandomForestClassifier         4  0.704545"
      ]
     },
     "execution_count": 66,
     "metadata": {},
     "output_type": "execute_result"
    }
   ],
   "source": [
    "# Training: Using 4 different models and 5 fold cross validation to see which one is better\n",
    "models = [\n",
    "    SGDClassifier(),\n",
    "    SVC(),\n",
    "    LinearSVC(),\n",
    "    RandomForestClassifier()\n",
    "    \n",
    "] \n",
    "CV = 5\n",
    "cv_df = pd.DataFrame(index=range(CV * len(models))) #adding them in the df\n",
    "entries = []\n",
    "for models in models:\n",
    "     model_name = models.__class__.__name__\n",
    "     accuracies = cross_val_score(models, x_train_text, y_train_text, scoring='accuracy', cv=CV) #finding accuracies\n",
    "     for fold_idx, accuracy in enumerate(accuracies):\n",
    "          entries.append((model_name, fold_idx, accuracy))\n",
    "cv_model_df_text = pd.DataFrame(entries, columns=['model_name', 'fold_idx', 'accuracy'])\n",
    "cv_model_df_text"
   ]
  },
  {
   "cell_type": "code",
   "execution_count": 76,
   "metadata": {},
   "outputs": [
    {
     "data": {
      "image/png": "[encoded data removed]",
      "text/plain": [
       "<Figure size 432x288 with 1 Axes>"
      ]
     },
     "metadata": {
      "needs_background": "light"
     },
     "output_type": "display_data"
    }
   ],
   "source": [
    "import seaborn as sns\n",
    "sns.boxplot(x='model_name', y='accuracy', data=cv_model_df_text) #boxplot to see which model performs better\n",
    "sns.stripplot(x='model_name', y='accuracy', data=cv_model_df_text, \n",
    "              size=8, jitter=True, edgecolor=\"gray\", linewidth=2)\n",
    "plt.title(\"Text Embedding\")\n",
    "plt.show()"
   ]
  },
  {
   "cell_type": "code",
   "execution_count": 70,
   "metadata": {},
   "outputs": [
    {
     "data": {
      "text/html": [
       "<div>\n",
       "<style scoped>\n",
       "    .dataframe tbody tr th:only-of-type {\n",
       "        vertical-align: middle;\n",
       "    }\n",
       "\n",
       "    .dataframe tbody tr th {\n",
       "        vertical-align: top;\n",
       "    }\n",
       "\n",
       "    .dataframe thead th {\n",
       "        text-align: right;\n",
       "    }\n",
       "</style>\n",
       "<table border=\"1\" class=\"dataframe\">\n",
       "  <thead>\n",
       "    <tr style=\"text-align: right;\">\n",
       "      <th></th>\n",
       "      <th>model_name</th>\n",
       "      <th>fold_idx</th>\n",
       "      <th>accuracy</th>\n",
       "    </tr>\n",
       "  </thead>\n",
       "  <tbody>\n",
       "    <tr>\n",
       "      <th>0</th>\n",
       "      <td>SGDClassifier</td>\n",
       "      <td>0</td>\n",
       "      <td>0.687583</td>\n",
       "    </tr>\n",
       "    <tr>\n",
       "      <th>1</th>\n",
       "      <td>SGDClassifier</td>\n",
       "      <td>1</td>\n",
       "      <td>0.663551</td>\n",
       "    </tr>\n",
       "    <tr>\n",
       "      <th>2</th>\n",
       "      <td>SGDClassifier</td>\n",
       "      <td>2</td>\n",
       "      <td>0.684913</td>\n",
       "    </tr>\n",
       "    <tr>\n",
       "      <th>3</th>\n",
       "      <td>SGDClassifier</td>\n",
       "      <td>3</td>\n",
       "      <td>0.674232</td>\n",
       "    </tr>\n",
       "    <tr>\n",
       "      <th>4</th>\n",
       "      <td>SGDClassifier</td>\n",
       "      <td>4</td>\n",
       "      <td>0.685829</td>\n",
       "    </tr>\n",
       "    <tr>\n",
       "      <th>5</th>\n",
       "      <td>SVC</td>\n",
       "      <td>0</td>\n",
       "      <td>0.598131</td>\n",
       "    </tr>\n",
       "    <tr>\n",
       "      <th>6</th>\n",
       "      <td>SVC</td>\n",
       "      <td>1</td>\n",
       "      <td>0.616822</td>\n",
       "    </tr>\n",
       "    <tr>\n",
       "      <th>7</th>\n",
       "      <td>SVC</td>\n",
       "      <td>2</td>\n",
       "      <td>0.590120</td>\n",
       "    </tr>\n",
       "    <tr>\n",
       "      <th>8</th>\n",
       "      <td>SVC</td>\n",
       "      <td>3</td>\n",
       "      <td>0.611482</td>\n",
       "    </tr>\n",
       "    <tr>\n",
       "      <th>9</th>\n",
       "      <td>SVC</td>\n",
       "      <td>4</td>\n",
       "      <td>0.592246</td>\n",
       "    </tr>\n",
       "    <tr>\n",
       "      <th>10</th>\n",
       "      <td>LinearSVC</td>\n",
       "      <td>0</td>\n",
       "      <td>0.779706</td>\n",
       "    </tr>\n",
       "    <tr>\n",
       "      <th>11</th>\n",
       "      <td>LinearSVC</td>\n",
       "      <td>1</td>\n",
       "      <td>0.781041</td>\n",
       "    </tr>\n",
       "    <tr>\n",
       "      <th>12</th>\n",
       "      <td>LinearSVC</td>\n",
       "      <td>2</td>\n",
       "      <td>0.766355</td>\n",
       "    </tr>\n",
       "    <tr>\n",
       "      <th>13</th>\n",
       "      <td>LinearSVC</td>\n",
       "      <td>3</td>\n",
       "      <td>0.773031</td>\n",
       "    </tr>\n",
       "    <tr>\n",
       "      <th>14</th>\n",
       "      <td>LinearSVC</td>\n",
       "      <td>4</td>\n",
       "      <td>0.766043</td>\n",
       "    </tr>\n",
       "    <tr>\n",
       "      <th>15</th>\n",
       "      <td>RandomForestClassifier</td>\n",
       "      <td>0</td>\n",
       "      <td>0.738318</td>\n",
       "    </tr>\n",
       "    <tr>\n",
       "      <th>16</th>\n",
       "      <td>RandomForestClassifier</td>\n",
       "      <td>1</td>\n",
       "      <td>0.708945</td>\n",
       "    </tr>\n",
       "    <tr>\n",
       "      <th>17</th>\n",
       "      <td>RandomForestClassifier</td>\n",
       "      <td>2</td>\n",
       "      <td>0.735648</td>\n",
       "    </tr>\n",
       "    <tr>\n",
       "      <th>18</th>\n",
       "      <td>RandomForestClassifier</td>\n",
       "      <td>3</td>\n",
       "      <td>0.716956</td>\n",
       "    </tr>\n",
       "    <tr>\n",
       "      <th>19</th>\n",
       "      <td>RandomForestClassifier</td>\n",
       "      <td>4</td>\n",
       "      <td>0.711230</td>\n",
       "    </tr>\n",
       "  </tbody>\n",
       "</table>\n",
       "</div>"
      ],
      "text/plain": [
       "                model_name  fold_idx  accuracy\n",
       "0            SGDClassifier         0  0.687583\n",
       "1            SGDClassifier         1  0.663551\n",
       "2            SGDClassifier         2  0.684913\n",
       "3            SGDClassifier         3  0.674232\n",
       "4            SGDClassifier         4  0.685829\n",
       "5                      SVC         0  0.598131\n",
       "6                      SVC         1  0.616822\n",
       "7                      SVC         2  0.590120\n",
       "8                      SVC         3  0.611482\n",
       "9                      SVC         4  0.592246\n",
       "10               LinearSVC         0  0.779706\n",
       "11               LinearSVC         1  0.781041\n",
       "12               LinearSVC         2  0.766355\n",
       "13               LinearSVC         3  0.773031\n",
       "14               LinearSVC         4  0.766043\n",
       "15  RandomForestClassifier         0  0.738318\n",
       "16  RandomForestClassifier         1  0.708945\n",
       "17  RandomForestClassifier         2  0.735648\n",
       "18  RandomForestClassifier         3  0.716956\n",
       "19  RandomForestClassifier         4  0.711230"
      ]
     },
     "execution_count": 70,
     "metadata": {},
     "output_type": "execute_result"
    }
   ],
   "source": [
    "# Training: Using 4 different models and 5 fold cross validation to see which one is better\n",
    "models = [\n",
    "    SGDClassifier(),\n",
    "    SVC(),\n",
    "    LinearSVC(),\n",
    "    RandomForestClassifier()\n",
    "    \n",
    "] \n",
    "CV = 5\n",
    "cv_df = pd.DataFrame(index=range(CV * len(models))) #adding them in the df\n",
    "entries = []\n",
    "for models in models:\n",
    "    model_name = models.__class__.__name__\n",
    "    accuracies = cross_val_score(models, x_train_full, y_train_full, scoring='accuracy', cv=CV) #finding accuracies\n",
    "    for fold_idx, accuracy in enumerate(accuracies):\n",
    "        entries.append((model_name, fold_idx, accuracy))\n",
    "cv_model_df_full = pd.DataFrame(entries, columns=['model_name', 'fold_idx', 'accuracy'])\n",
    "cv_model_df_full"
   ]
  },
  {
   "cell_type": "code",
   "execution_count": 77,
   "metadata": {},
   "outputs": [
    {
     "data": {
      "image/png": "[encoded data removed]",
      "text/plain": [
       "<Figure size 432x288 with 1 Axes>"
      ]
     },
     "metadata": {
      "needs_background": "light"
     },
     "output_type": "display_data"
    }
   ],
   "source": [
    "import seaborn as sns\n",
    "sns.boxplot(x='model_name', y='accuracy', data=cv_model_df_full) #boxplot to see which model performs better\n",
    "sns.stripplot(x='model_name', y='accuracy', data=cv_model_df_full, \n",
    "              size=8, jitter=True, edgecolor=\"gray\", linewidth=2)\n",
    "plt.title(\"Stacked Embedding\")\n",
    "plt.show()"
   ]
  },
  {
   "cell_type": "markdown",
   "metadata": {},
   "source": [
    "### 2.6 Classifier Model building  & Prediction\n",
    "\n",
    "Based on the all the other techniques we could infer that the Linear SVC is the most accurate model with less distortion, therefore it is used to build the node classifiers for all nodes in the network.Then with classifier model, we predict the for the test set"
   ]
  },
  {
   "cell_type": "code",
   "execution_count": 72,
   "metadata": {},
   "outputs": [
    {
     "name": "stdout",
     "output_type": "stream",
     "text": [
      "LinearSVC \n",
      "\n"
     ]
    }
   ],
   "source": [
    "clf=LinearSVC()\n",
    "model_name = clf.__class__.__name__\n",
    "clf.fit(x_train_full, y_train_full)\n",
    "print(model_name,'\\n')\n",
    "# Do the prediction\n",
    "y_predict=clf.predict(x_test_full)\n"
   ]
  },
  {
   "cell_type": "markdown",
   "metadata": {},
   "source": [
    "### 2.7 Model Metrics\n",
    "\n",
    "With the true value and predicted value , we can calculate the metrics like accuracy,f1score,matthews correlation coefficient of this classifier model.The classification report is also generated in order to know the metrics based on each classes.\n",
    "\n",
    "\n",
    "With the true value and predicted value, we can calculate the metrics like accuracy, f1score, Matthews correlation coefficient of this classifier model. The **accuracy** is **78.37%**. Also, the label wise classification is also generated. **Recall** provides us with the true positive predictions, or the **sensitivity** and we can find that its values is **0.744** which indicates there is good number of positive predictions. **Precision** provides with the exactness of the classifier model and its value is **0.78** which means it has more True positives than  False positives so our model is more exact.**F1 score** is harmonic mean of precision and recall therefore it is very important metric to be considered while building a classifier model, When it is high and almost equal to 1 it would be a best model. For us in this case we have a **0.75**, which is a very good score. The classification report below just provides us the metrics based on each of the classification labels or number of classes in which the data must be classified."
   ]
  },
  {
   "cell_type": "code",
   "execution_count": 73,
   "metadata": {},
   "outputs": [
    {
     "name": "stdout",
     "output_type": "stream",
     "text": [
      "Confusion Matrix\n",
      " [[3981   85  327   98  135]\n",
      " [  80 2790  138  125    8]\n",
      " [ 628  237 2539  139   46]\n",
      " [ 110  174  101 1777   11]\n",
      " [ 577   56  106   57  651]] \n",
      "\n",
      "Accuracy: 0.7837873931623932\n",
      "Macro Precision: 0.7880486309685482\n",
      "Macro Recall: 0.744784406496015\n",
      "Macro F1 score:0.7567112445083765\n",
      "Matthews Correlation Coeficient:0.7194464325515394\n"
     ]
    }
   ],
   "source": [
    "print(\"Confusion Matrix\\n\",confusion_matrix(y_test_full,y_predict),'\\n')\n",
    "recall=recall_score(y_test_full,y_predict,average='macro')\n",
    "precision=precision_score(y_test_full,y_predict,average='macro')\n",
    "f1score=f1_score(y_test_full,y_predict,average='macro')\n",
    "accuracy=accuracy_score(y_test_full,y_predict)\n",
    "matthews = matthews_corrcoef(y_test_full,y_predict) \n",
    "print('Accuracy: '+ str(accuracy))\n",
    "print('Macro Precision: '+ str(precision))\n",
    "print('Macro Recall: '+ str(recall))\n",
    "print('Macro F1 score:'+ str(f1score))\n",
    "print('Matthews Correlation Coeficient:'+ str(matthews))"
   ]
  },
  {
   "cell_type": "code",
   "execution_count": 74,
   "metadata": {},
   "outputs": [
    {
     "name": "stdout",
     "output_type": "stream",
     "text": [
      "Classification Report\n",
      "               precision    recall  f1-score   support\n",
      "\n",
      "     label 0       0.74      0.86      0.80      4626\n",
      "     label 1       0.83      0.89      0.86      3141\n",
      "     label 2       0.79      0.71      0.75      3589\n",
      "     label 3       0.81      0.82      0.81      2173\n",
      "     label 4       0.76      0.45      0.57      1447\n",
      "\n",
      "    accuracy                           0.78     14976\n",
      "   macro avg       0.79      0.74      0.76     14976\n",
      "weighted avg       0.78      0.78      0.78     14976\n",
      "\n"
     ]
    }
   ],
   "source": [
    "from sklearn.metrics import classification_report\n",
    "target_names=['label 0','label 1','label 2','label 3','label 4']\n",
    "print(\"Classification Report\\n\",classification_report(y_test_full, y_predict, target_names=target_names))"
   ]
  },
  {
   "cell_type": "markdown",
   "metadata": {},
   "source": [
    "## 3. References:\n",
    "\n"
   ]
  },
  {
   "cell_type": "markdown",
   "metadata": {},
   "source": [
    "#### RECOMMENDER SYSTEMS:\n",
    "\n",
    "- https://towardsdatascience.com/introduction-to-recommender-systems-6c66cf15ada\n",
    "- https://github.com/AZG0404/Collaborative-Filtering-for-Implicit-Feedback-Datasets/blob/master/collaborative-filtering-for-implicit-feedback-datasets.ipynb\n",
    "- https://towardsdatascience.com/recommender-systems-in-practice-cef9033bb23a\n",
    "- https://github.com/luisds95/Playground/blob/master/Recommendation%20Systems/Amazon%20Finefoods%20reviews.ipynb\n",
    "- http://www.diva-portal.se/smash/get/diva2:1111045/FULLTEXT01.pdf\n",
    "- https://github.com/akhilesh-reddy/Implicit-data-based-recommendation-system/blob/master/Implicit%20data%20based%20recommendation%20system%20using%20ALS.ipynb \n",
    "- https://implicit.readthedocs.io/en/latest/lmf.html\n",
    "- https://github.com/raviraju/recommender_system/tree/master/binary_recommender/articles_recommender/notebooks\n",
    "- https://implicit.readthedocs.io/en/latest/bpr.html\n",
    "- https://medium.com/@deepvaghani/understanding-basic-recommendation-systems-using-python-5ee1981601e9#:~:text=AUC%20computes%20the%20area%20under,against%20the%20false%20positive%20rate.&text=A%20classifier%20with%20no%20power,on%20the%20x%3Dy%20diagonal.\n",
    "- https://stackoverflow.com/questions/41757653/how-to-compute-aucarea-under-curve-for-recommendation-system-evaluation\n",
    "- https://towardsdatascience.com/recommender-system-using-bayesian-personalized-ranking-d30e98bba0b9#:~:text=Instead%20it%20optimizes%20to%20predict,personalized%20rankings%20for%20each%20user\n",
    "- https://scikit-learn.org/stable/modules/generated/sklearn.metrics.auc.html\n",
    "\n",
    "\n",
    "#### NODE CLASSIFICATION:\n",
    "\n",
    "- https://cs.stanford.edu/~jure/pubs/node2vec-kdd16.pdf\n",
    "- http://snap.stanford.edu/proj/embeddings-www/files/nrltutorial-part1-embeddings.pdf\n",
    "- https://scipython.com/book/chapter-6-numpy/examples/vstack-and-hstack/\n",
    "- https://docs.scipy.org/doc/scipy-0.14.0/reference/generated/scipy.sparse.hstack.html\n",
    "- https://towardsdatascience.com/understanding-word-embeddings-with-tf-idf-and-glove-8acb63892032\n",
    "- https://scikit-learn.org/stable/auto_examples/classification/plot_classifier_comparison.html\n",
    "- https://scikit-learn.org/stable/modules/sgd.html\n",
    "- https://stackoverflow.com/questions/14616519/how-to-remove-a-list-within-list-based-on-len-in-python\n",
    "- https://kite.com/python/answers/how-to-convert-each-line-in-a-text-file-into-a-list-in-python\n",
    "- https://medium.com/@contactsunny/how-to-split-your-dataset-to-train-and-test-datasets-using-scikit-learn-e7cf6eb5e0d\n",
    "- https://stellargraph.readthedocs.io/en/stable/demos/node-classification/node2vec-node-classification.html\n",
    "- https://scikit-learn.org/stable/modules/generated/sklearn.metrics.classification_report.html"
   ]
  }
 ],
 "metadata": {
  "kernelspec": {
   "display_name": "Python 3",
   "language": "python",
   "name": "python3"
  },
  "language_info": {
   "codemirror_mode": {
    "name": "ipython",
    "version": 3
   },
   "file_extension": ".py",
   "mimetype": "text/x-python",
   "name": "python",
   "nbconvert_exporter": "python",
   "pygments_lexer": "ipython3",
   "version": "3.8.5"
  }
 },
 "nbformat": 4,
 "nbformat_minor": 4
}
